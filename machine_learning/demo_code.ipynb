{
  "nbformat": 4,
  "nbformat_minor": 0,
  "metadata": {
    "kernelspec": {
      "display_name": "Python 3",
      "language": "python",
      "name": "python3"
    },
    "language_info": {
      "codemirror_mode": {
        "name": "ipython",
        "version": 3
      },
      "file_extension": ".py",
      "mimetype": "text/x-python",
      "name": "python",
      "nbconvert_exporter": "python",
      "pygments_lexer": "ipython3",
      "version": "3.8.5-final"
    },
    "colab": {
      "name": "text_classification_tutorial.ipynb",
      "provenance": []
    }
  },
  "cells": [
    {
      "cell_type": "markdown",
      "metadata": {
        "id": "sSBUWv_XNRtt",
        "colab_type": "text"
      },
      "source": [
        "# Thực hành phân loại văn bản sử dụng Machine learning\n",
        "[![](https://nguyenvanhieu.vn/wp-content/uploads/2020/08/phan-loai-van-ban-tieng-viet.jpg)](https://nguyenvanhieu.vn/phan-loai-van-ban-tieng-viet/)\n",
        "\n",
        "> Bài hướng dẫn: https://nguyenvanhieu.vn/phan-loai-van-ban-tieng-viet/\n"
      ]
    },
    {
      "cell_type": "markdown",
      "metadata": {
        "id": "auTRaD5iMwxk",
        "colab_type": "text"
      },
      "source": [
        "\n",
        "# Tiền xử lý dữ liệu\n",
        "- Xóa HTML code (nếu có)\n",
        "- Chuẩn hóa bảng mã Unicode\n",
        "- Chuẩn hóa kiểu gõ dấu tiếng Việt\n",
        "=> Xem thêm: [Xử lý tiếng Việt trong Python](https://nguyenvanhieu.vn/xu-ly-tieng-viet-trong-python/)\n",
        "- Thực hiện tách từ tiếng Việt (sử dụng thư viện tách từ như pyvi, underthesea, vncorenlp,...)\n",
        "- đưa về văn bản lower (viết thường)\n",
        "- Xóa các ký tự đặc biệt: \".\", \",\", \";\", \")\", ...\n",
        "\n",
        "## Một số tập dữ liệu có thể tham khảo\n",
        "- https://github.com/duyvuleo/VNTC\n",
        "- http://github.com/binhvq/news-corpus\n",
        "\n",
        "> Phần này mình chỉ hướng dẫn cách xử lý 1 bài báo. Sau đó, mình sẽ cung cấp tập dữ liệu tin tức đã được xử lý"
      ]
    },
    {
      "cell_type": "code",
      "metadata": {
        "id": "Koy7eu1dMwxn",
        "colab_type": "code",
        "colab": {},
        "outputId": "c8870b8c-0e74-409c-bf8e-1e566dbd9029"
      },
      "source": [
        "# Cài đặt một số hàm tiền xử lý văn bản cần thiết\n",
        "# !pip3 install --user underthesea\n",
        "import regex as re\n",
        "from underthesea import word_tokenize\n",
        " \n",
        "uniChars = \"àáảãạâầấẩẫậăằắẳẵặèéẻẽẹêềếểễệđìíỉĩịòóỏõọôồốổỗộơờớởỡợùúủũụưừứửữựỳýỷỹỵÀÁẢÃẠÂẦẤẨẪẬĂẰẮẲẴẶÈÉẺẼẸÊỀẾỂỄỆĐÌÍỈĨỊÒÓỎÕỌÔỒỐỔỖỘƠỜỚỞỠỢÙÚỦŨỤƯỪỨỬỮỰỲÝỶỸỴÂĂĐÔƠƯ\"\n",
        "unsignChars = \"aaaaaaaaaaaaaaaaaeeeeeeeeeeediiiiiooooooooooooooooouuuuuuuuuuuyyyyyAAAAAAAAAAAAAAAAAEEEEEEEEEEEDIIIOOOOOOOOOOOOOOOOOOOUUUUUUUUUUUYYYYYAADOOU\"\n",
        " \n",
        "def loaddicchar():\n",
        "    dic = {}\n",
        "    char1252 = 'à|á|ả|ã|ạ|ầ|ấ|ẩ|ẫ|ậ|ằ|ắ|ẳ|ẵ|ặ|è|é|ẻ|ẽ|ẹ|ề|ế|ể|ễ|ệ|ì|í|ỉ|ĩ|ị|ò|ó|ỏ|õ|ọ|ồ|ố|ổ|ỗ|ộ|ờ|ớ|ở|ỡ|ợ|ù|ú|ủ|ũ|ụ|ừ|ứ|ử|ữ|ự|ỳ|ý|ỷ|ỹ|ỵ|À|Á|Ả|Ã|Ạ|Ầ|Ấ|Ẩ|Ẫ|Ậ|Ằ|Ắ|Ẳ|Ẵ|Ặ|È|É|Ẻ|Ẽ|Ẹ|Ề|Ế|Ể|Ễ|Ệ|Ì|Í|Ỉ|Ĩ|Ị|Ò|Ó|Ỏ|Õ|Ọ|Ồ|Ố|Ổ|Ỗ|Ộ|Ờ|Ớ|Ở|Ỡ|Ợ|Ù|Ú|Ủ|Ũ|Ụ|Ừ|Ứ|Ử|Ữ|Ự|Ỳ|Ý|Ỷ|Ỹ|Ỵ'.split(\n",
        "        '|')\n",
        "    charutf8 = \"à|á|ả|ã|ạ|ầ|ấ|ẩ|ẫ|ậ|ằ|ắ|ẳ|ẵ|ặ|è|é|ẻ|ẽ|ẹ|ề|ế|ể|ễ|ệ|ì|í|ỉ|ĩ|ị|ò|ó|ỏ|õ|ọ|ồ|ố|ổ|ỗ|ộ|ờ|ớ|ở|ỡ|ợ|ù|ú|ủ|ũ|ụ|ừ|ứ|ử|ữ|ự|ỳ|ý|ỷ|ỹ|ỵ|À|Á|Ả|Ã|Ạ|Ầ|Ấ|Ẩ|Ẫ|Ậ|Ằ|Ắ|Ẳ|Ẵ|Ặ|È|É|Ẻ|Ẽ|Ẹ|Ề|Ế|Ể|Ễ|Ệ|Ì|Í|Ỉ|Ĩ|Ị|Ò|Ó|Ỏ|Õ|Ọ|Ồ|Ố|Ổ|Ỗ|Ộ|Ờ|Ớ|Ở|Ỡ|Ợ|Ù|Ú|Ủ|Ũ|Ụ|Ừ|Ứ|Ử|Ữ|Ự|Ỳ|Ý|Ỷ|Ỹ|Ỵ\".split(\n",
        "        '|')\n",
        "    for i in range(len(char1252)):\n",
        "        dic[char1252[i]] = charutf8[i]\n",
        "    return dic\n",
        "dicchar = loaddicchar()\n",
        "\n",
        "# Hàm chuyển Unicode dựng sẵn về Unicde tổ hợp (phổ biến hơn)\n",
        "def convert_unicode(txt):\n",
        "    return re.sub(\n",
        "        r'à|á|ả|ã|ạ|ầ|ấ|ẩ|ẫ|ậ|ằ|ắ|ẳ|ẵ|ặ|è|é|ẻ|ẽ|ẹ|ề|ế|ể|ễ|ệ|ì|í|ỉ|ĩ|ị|ò|ó|ỏ|õ|ọ|ồ|ố|ổ|ỗ|ộ|ờ|ớ|ở|ỡ|ợ|ù|ú|ủ|ũ|ụ|ừ|ứ|ử|ữ|ự|ỳ|ý|ỷ|ỹ|ỵ|À|Á|Ả|Ã|Ạ|Ầ|Ấ|Ẩ|Ẫ|Ậ|Ằ|Ắ|Ẳ|Ẵ|Ặ|È|É|Ẻ|Ẽ|Ẹ|Ề|Ế|Ể|Ễ|Ệ|Ì|Í|Ỉ|Ĩ|Ị|Ò|Ó|Ỏ|Õ|Ọ|Ồ|Ố|Ổ|Ỗ|Ộ|Ờ|Ớ|Ở|Ỡ|Ợ|Ù|Ú|Ủ|Ũ|Ụ|Ừ|Ứ|Ử|Ữ|Ự|Ỳ|Ý|Ỷ|Ỹ|Ỵ',\n",
        "        lambda x: dicchar[x.group()], txt)\n",
        "\n",
        "bang_nguyen_am = [['a', 'à', 'á', 'ả', 'ã', 'ạ', 'a'],\n",
        "                  ['ă', 'ằ', 'ắ', 'ẳ', 'ẵ', 'ặ', 'aw'],\n",
        "                  ['â', 'ầ', 'ấ', 'ẩ', 'ẫ', 'ậ', 'aa'],\n",
        "                  ['e', 'è', 'é', 'ẻ', 'ẽ', 'ẹ', 'e'],\n",
        "                  ['ê', 'ề', 'ế', 'ể', 'ễ', 'ệ', 'ee'],\n",
        "                  ['i', 'ì', 'í', 'ỉ', 'ĩ', 'ị', 'i'],\n",
        "                  ['o', 'ò', 'ó', 'ỏ', 'õ', 'ọ', 'o'],\n",
        "                  ['ô', 'ồ', 'ố', 'ổ', 'ỗ', 'ộ', 'oo'],\n",
        "                  ['ơ', 'ờ', 'ớ', 'ở', 'ỡ', 'ợ', 'ow'],\n",
        "                  ['u', 'ù', 'ú', 'ủ', 'ũ', 'ụ', 'u'],\n",
        "                  ['ư', 'ừ', 'ứ', 'ử', 'ữ', 'ự', 'uw'],\n",
        "                  ['y', 'ỳ', 'ý', 'ỷ', 'ỹ', 'ỵ', 'y']]\n",
        "bang_ky_tu_dau = ['', 'f', 's', 'r', 'x', 'j']\n",
        "\n",
        "nguyen_am_to_ids = {}\n",
        "\n",
        "for i in range(len(bang_nguyen_am)):\n",
        "    for j in range(len(bang_nguyen_am[i]) - 1):\n",
        "        nguyen_am_to_ids[bang_nguyen_am[i][j]] = (i, j)\n",
        "\n",
        "def chuan_hoa_dau_tu_tieng_viet(word):\n",
        "    if not is_valid_vietnam_word(word):\n",
        "        return word\n",
        "\n",
        "    chars = list(word)\n",
        "    dau_cau = 0\n",
        "    nguyen_am_index = []\n",
        "    qu_or_gi = False\n",
        "    for index, char in enumerate(chars):\n",
        "        x, y = nguyen_am_to_ids.get(char, (-1, -1))\n",
        "        if x == -1:\n",
        "            continue\n",
        "        elif x == 9:  # check qu\n",
        "            if index != 0 and chars[index - 1] == 'q':\n",
        "                chars[index] = 'u'\n",
        "                qu_or_gi = True\n",
        "        elif x == 5:  # check gi\n",
        "            if index != 0 and chars[index - 1] == 'g':\n",
        "                chars[index] = 'i'\n",
        "                qu_or_gi = True\n",
        "        if y != 0:\n",
        "            dau_cau = y\n",
        "            chars[index] = bang_nguyen_am[x][0]\n",
        "        if not qu_or_gi or index != 1:\n",
        "            nguyen_am_index.append(index)\n",
        "    if len(nguyen_am_index) < 2:\n",
        "        if qu_or_gi:\n",
        "            if len(chars) == 2:\n",
        "                x, y = nguyen_am_to_ids.get(chars[1])\n",
        "                chars[1] = bang_nguyen_am[x][dau_cau]\n",
        "            else:\n",
        "                x, y = nguyen_am_to_ids.get(chars[2], (-1, -1))\n",
        "                if x != -1:\n",
        "                    chars[2] = bang_nguyen_am[x][dau_cau]\n",
        "                else:\n",
        "                    chars[1] = bang_nguyen_am[5][dau_cau] if chars[1] == 'i' else bang_nguyen_am[9][dau_cau]\n",
        "            return ''.join(chars)\n",
        "        return word\n",
        "\n",
        "    for index in nguyen_am_index:\n",
        "        x, y = nguyen_am_to_ids[chars[index]]\n",
        "        if x == 4 or x == 8:  # ê, ơ\n",
        "            chars[index] = bang_nguyen_am[x][dau_cau]\n",
        "            # for index2 in nguyen_am_index:\n",
        "            #     if index2 != index:\n",
        "            #         x, y = nguyen_am_to_ids[chars[index]]\n",
        "            #         chars[index2] = bang_nguyen_am[x][0]\n",
        "            return ''.join(chars)\n",
        "\n",
        "    if len(nguyen_am_index) == 2:\n",
        "        if nguyen_am_index[-1] == len(chars) - 1:\n",
        "            x, y = nguyen_am_to_ids[chars[nguyen_am_index[0]]]\n",
        "            chars[nguyen_am_index[0]] = bang_nguyen_am[x][dau_cau]\n",
        "            # x, y = nguyen_am_to_ids[chars[nguyen_am_index[1]]]\n",
        "            # chars[nguyen_am_index[1]] = bang_nguyen_am[x][0]\n",
        "        else:\n",
        "            # x, y = nguyen_am_to_ids[chars[nguyen_am_index[0]]]\n",
        "            # chars[nguyen_am_index[0]] = bang_nguyen_am[x][0]\n",
        "            x, y = nguyen_am_to_ids[chars[nguyen_am_index[1]]]\n",
        "            chars[nguyen_am_index[1]] = bang_nguyen_am[x][dau_cau]\n",
        "    else:\n",
        "        # x, y = nguyen_am_to_ids[chars[nguyen_am_index[0]]]\n",
        "        # chars[nguyen_am_index[0]] = bang_nguyen_am[x][0]\n",
        "        x, y = nguyen_am_to_ids[chars[nguyen_am_index[1]]]\n",
        "        chars[nguyen_am_index[1]] = bang_nguyen_am[x][dau_cau]\n",
        "        # x, y = nguyen_am_to_ids[chars[nguyen_am_index[2]]]\n",
        "        # chars[nguyen_am_index[2]] = bang_nguyen_am[x][0]\n",
        "    return ''.join(chars)\n",
        "\n",
        "\n",
        "def is_valid_vietnam_word(word):\n",
        "    chars = list(word)\n",
        "    nguyen_am_index = -1\n",
        "    for index, char in enumerate(chars):\n",
        "        x, y = nguyen_am_to_ids.get(char, (-1, -1))\n",
        "        if x != -1:\n",
        "            if nguyen_am_index == -1:\n",
        "                nguyen_am_index = index\n",
        "            else:\n",
        "                if index - nguyen_am_index != 1:\n",
        "                    return False\n",
        "                nguyen_am_index = index\n",
        "    return True\n",
        "\n",
        "\n",
        "def chuan_hoa_dau_cau_tieng_viet(sentence):\n",
        "    \"\"\"\n",
        "        Chuyển câu tiếng việt về chuẩn gõ dấu kiểu cũ.\n",
        "        :param sentence:\n",
        "        :return:\n",
        "        \"\"\"\n",
        "    sentence = sentence.lower()\n",
        "    words = sentence.split()\n",
        "    for index, word in enumerate(words):\n",
        "        cw = re.sub(r'(^\\p{P}*)([p{L}.]*\\p{L}+)(\\p{P}*$)', r'\\1/\\2/\\3', word).split('/')\n",
        "        # print(cw)\n",
        "        if len(cw) == 3:\n",
        "            cw[1] = chuan_hoa_dau_tu_tieng_viet(cw[1])\n",
        "        words[index] = ''.join(cw)\n",
        "    return ' '.join(words)\n",
        "\n",
        "def remove_html(txt):\n",
        "    return re.sub(r'<[^>]*>', '', txt)"
      ],
      "execution_count": 1,
      "outputs": []
    },
    {
      "cell_type": "code",
      "metadata": {
        "id": "QtpeIjbcMwx3",
        "colab_type": "code",
        "colab": {},
        "outputId": "49ae8a0d-ca3c-45c1-8af5-c631cebf49f5"
      },
      "source": [
        "def text_preprocess(document):\n",
        "    # xóa html code\n",
        "    document = remove_html(document)\n",
        "    # chuẩn hóa unicode\n",
        "    document = convert_unicode(document)\n",
        "    # chuẩn hóa cách gõ dấu tiếng Việt\n",
        "    document = chuan_hoa_dau_cau_tieng_viet(document)\n",
        "    # tách từ\n",
        "    document = word_tokenize(document, format=\"text\")\n",
        "    # đưa về lower\n",
        "    document = document.lower()\n",
        "    # xóa các ký tự không cần thiết\n",
        "    document = re.sub(r'[^\\s\\wáàảãạăắằẳẵặâấầẩẫậéèẻẽẹêếềểễệóòỏõọôốồổỗộơớờởỡợíìỉĩịúùủũụưứừửữựýỳỷỹỵđ_]',' ',document)\n",
        "    # xóa khoảng trắng thừa\n",
        "    document = re.sub(r'\\s+', ' ', document).strip()\n",
        "    return document\n",
        "\n",
        "document = \"\"\"\n",
        "TP HCM phạt người không đeo khẩu trang nơi công cộng\n",
        "Người dân ở thành phố không đeo khẩu trang nơi công cộng sẽ bị xử phạt mức cao nhất 300.000 đồng, từ ngày 5/8.\n",
        "\n",
        "Yêu cầu này được Chủ tịch UBND thành phố Nguyễn Thành Phong đưa ra tại cuộc họp Ban chỉ đạo phòng chống dịch bệnh Covid-19 của TP HCM chiều 3/8.\n",
        "\n",
        "Việc xử phạt không đeo khẩu trang nơi công cộng được TP HCM cũng như các địa phương khác thực hiện từ cuối tháng 3 khi Covid-19 bùng phát. Tuy nhiên, sau khi hết thực hiện cách ly xã hội từ ngày 23/4, việc đeo khẩu trang nơi công cộng chỉ dừng lại ở mức khuyến cáo.\n",
        "\n",
        "Theo Nghị định số 176/2013, người dân không đeo khẩu trang nơi công cộng sẽ bị xử phạt từ 100.000 đến 300.000 đồng. Trong khoảng một tháng áp dụng trước đó, TP HCM đã xử phạt hơn 4.300 trường hợp với gần 870 triệu đồng.\n",
        "\n",
        "Theo ông Phong, việc đeo khẩu trang đã được khẳng định có thể tránh lây lan dịch bệnh cho người khác và bảo vệ sức khỏe cho người sử dụng. \"Sở Công thương phải nắm nguồn cung ứng khẩu trang, chủ động thông báo các điểm bán để người dân dễ dàng mua vì đã xử phạt thì phải bảo đảm đủ nguồn cung\", ông Phong nói.\n",
        "\n",
        "Đội trật tự đô thị phường Bến Nghé, quận 1, xử phạt người không đeo khẩu trang trên phố đi bộ Nguyễn Huệ, chiều 15/4. Ảnh: Quỳnh Trần.\n",
        "Đội trật tự đô thị phường Bến Nghé, quận 1, xử phạt người không đeo khẩu trang trên phố đi bộ Nguyễn Huệ, chiều 15/4. Ảnh: Quỳnh Trần.\n",
        "\n",
        "Bí thư Thành uỷ Nguyễn Thiện Nhân cũng cho rằng việc đeo khẩu trang là một trong những biện pháp cơ bản để tránh dịch bệnh lây lan. Việc này rất dễ làm, không tốn nhiều tiền nhưng nhiều nước bỏ lơi và đã bị \"vỡ trận\".\n",
        "\n",
        "\"Ngoài đường hiện có ít nhất 20% người không đeo khẩu trang. Người không đeo không những tự rước bệnh vào mình mà còn nguy cơ lây cho người khác. Đeo khẩu trang hơi cực tí thôi nhưng đi đâu cũng nên đeo để giữ an toàn\", ông Nhân nói và khẳng định thành phố bảo đảm không thiếu khẩu trang cho người dân.\n",
        "\n",
        "Chủ tịch UBND thành phố Nguyễn Thành Phong cũng cho biết đã đồng ý việc tái lập các chốt kiểm soát ở cửa ngõ TP HCM để phòng chống Covid-19.\n",
        "\n",
        "Trước đó, thành phố đã lập 62 chốt kiểm soát, hoạt động 24/24 từ ngày 4/4 để phòng chống dịch. Lực lượng tham gia là Công an thành phố, Sở Y tế, Bộ Tư lệnh thành phố, Thanh tra giao thông, Ban Quản lý An toàn thực phẩm, quản lý thị trường.\n",
        "\n",
        "Trong đó, 16 chốt chính (cấp thành phố) đặt tại: Trạm thu phí Long Phước (cao tốc TP HCM - Long Thành - Dầu Giây), cao tốc Trung Lương, cầu Đôi (đường Trần Văn Giàu), đường Ba Làng, đường Xuyên Á (quốc lộ 22), cầu Phú Cường, cầu Vĩnh Bình, cầu vượt Sóng Thần, quốc lộ 1K, quốc lộ 50, quốc lộ 1A, cầu Đồng Nai, Bến xe Miền Tây, Bến xe miền Đông, sân bay Tân Sơn Nhất, cảng Cát Lái.\n",
        "\n",
        "Đến ngày 23/4, chính quyền thành phố dừng hoạt động các chốt này vì dịch bệnh đã được khống chế, TP HCM dừng cách ly xã hội theo Chỉ thị 19 của Thủ tướng.\n",
        "\n",
        "Sau 19 ngày hoạt động, các chốt chính đã kiểm tra gần 270.000 xe, trong đó có 235.000 ôtô; gần 600.000 người được kiểm tra y tế, đo thân nhiệt, bao gồm cả 3.000 người nước ngoài; hơn 130.000 người được yêu cầu khai báo y tế.\n",
        "\"\"\"\n",
        "\n",
        "document = text_preprocess(document)\n",
        "print(document)"
      ],
      "execution_count": null,
      "outputs": [
        {
          "output_type": "stream",
          "text": [
            "tp hcm phạt người không đeo khẩu_trang nơi công_cộng người dân ở thành_phố không đeo khẩu_trang nơi công_cộng sẽ bị xử_phạt mức cao nhất 300 000 đồng từ ngày 58 yêu_cầu này được chủ_tịch ubnd thành_phố nguyễn_thành phong đưa ra tại cuộc họp ban chỉ_đạo phòng_chống dịch_bệnh covid 19 của tp hcm chiều 38 việc xử_phạt không đeo khẩu_trang nơi công_cộng được tp hcm cũng như các địa_phương khác thực_hiện từ cuối tháng 3 khi covid 19 bùng_phát tuy_nhiên sau khi hết thực_hiện cách_ly xã_hội từ ngày 234 việc đeo khẩu_trang nơi công_cộng chỉ dừng lại ở mức khuyến_cáo theo nghị_định số 1762013 người_dân không đeo khẩu_trang nơi công_cộng sẽ bị xử_phạt từ 100 000 đến 300 000 đồng trong khoảng một tháng áp_dụng trước đó tp hcm đã xử_phạt hơn 4 300 trường_hợp với gần 870 triệu đồng theo ông phong việc đeo khẩu_trang đã được khẳng_định có_thể tránh lây_lan dịch_bệnh cho người khác và bảo_vệ sức_khỏe cho người sử_dụng sở công_thương phải nắm nguồn cung_ứng_khẩu_trang chủ_động thông_báo các điểm bán để người dân dễ_dàng mua vì đã xử_phạt thì phải bảo_đảm đủ nguồn cung ông phong nói đội trật_tự đô_thị phường bến_nghé quận 1 xử_phạt người không đeo khẩu_trang trên phố đi bộ nguyễn_huệ chiều 154 ảnh quỳnh trần đội trật_tự đô_thị phường bến_nghé quận 1 xử_phạt người không đeo khẩu_trang trên phố đi bộ nguyễn_huệ chiều 154 ảnh quỳnh trần bí_thư thành_ủy nguyễn_thiện_nhân cũng cho rằng việc đeo khẩu_trang là một trong những biện_pháp cơ_bản để tránh dịch_bệnh lây_lan việc này rất dễ làm không tốn nhiều tiền nhưng nhiều nước bỏ_lơi và đã bị vỡ trận ngoài đường hiện có ít_nhất 20 người không đeo khẩu_trang người không đeo không_những tự rước bệnh vào mình mà_còn nguy_cơ lây cho người khác đeo khẩu_trang hơi cực tí thôi nhưng đi đâu cũng nên đeo để giữ an_toàn ông nhân nói và khẳng_định thành_phố bảo_đảm không thiếu khẩu_trang cho người dân chủ_tịch ubnd thành_phố nguyễn_thành phong cũng cho biết đã đồng_ý việc tái_lập các chốt kiểm_soát ở cửa_ngõ tp hcm để phòng_chống covid 19 trước đó thành_phố đã lập 62 chốt kiểm_soát hoạt_động 2424 từ ngày 44 để phòng_chống dịch lực_lượng tham_gia là công_an thành_phố sở y_tế bộ_tư_lệnh thành_phố thanh_tra giao_thông ban quản_lý an_toàn thực_phẩm quản_lý thị_trường trong đó 16 chốt chính cấp thành_phố đặt tại trạm thu phí long phước cao_tốc tp hcm long thành dầu giây cao_tốc trung_lương cầu đôi đường trần_văn_giàu đường ba làng đường xuyên á quốc_lộ 22 cầu phú_cường cầu vĩnh_bình cầu_vượt sóng_thần quốc_lộ 1k quốc_lộ 50 quốc_lộ 1a cầu đồng nai bến_xe miền tây bến_xe miền đông sân_bay tân_sơn nhất cảng cát_lái đến ngày 234 chính_quyền thành_phố dừng hoạt_động các chốt này vì dịch_bệnh đã được khống_chế tp hcm dừng cách_ly xã_hội theo chỉ_thị 19 của thủ_tướng sau 19 ngày hoạt_động các chốt chính đã kiểm_tra gần 270 000 xe trong đó có 235 000 ôtô gần 600 000 người được kiểm_tra y_tế đo thân_nhiệt bao_gồm cả 3 000 người nước_ngoài hơn 130 000 người được yêu_cầu khai_báo y_tế\n"
          ],
          "name": "stdout"
        }
      ]
    },
    {
      "cell_type": "markdown",
      "metadata": {
        "id": "kA3UXNiZMwx9",
        "colab_type": "text"
      },
      "source": [
        "# Thực hành phân loại văn bản\n",
        "- Tải tập dữ liệu đã tiền xử lý về\n",
        "- Quan sát tập dữ liệu\n",
        "- Loại bỏ stopword\n",
        "\n",
        "- Xây dựng tập train/test\n",
        "\n",
        "- Phân loại văn bản sử dụng thuật toán Naive Bayes\n",
        "- Phân loại văn bản sử dụng thuật toán SVM\n",
        "- Phân loại văn bản sử dụng Fasttext\n",
        "\n",
        "- Tổng kết/ Nhận xét"
      ]
    },
    {
      "cell_type": "code",
      "metadata": {
        "id": "aadjUdF8Mwx_",
        "colab_type": "code",
        "colab": {},
        "outputId": "ab75d660-8d8e-4e52-9776-081880a96e85",
        "tags": [
          "outputPrepend"
        ]
      },
      "source": [
        "# Download data\n",
        "# Dữ liệu đã tiền xử lý có dạng: mỗi bài báo là một dòng, từ đầu tiên là nhãn (chủ đề) của dòng đó\n",
        "!wget -nc \"https://github.com/nguyenvanhieuvn/text-classification-tutorial/raw/master/news_categories.zip\"\n",
        "!unzip -n \"news_categories.zip\"\n",
        "!head \"news_categories.txt\""
      ],
      "execution_count": 1,
      "outputs": [
        {
          "output_type": "stream",
          "name": "stdout",
          "text": [
            "uyên gặp_gỡ tình_yêu của mình hot boy tuấn_kiệt sau những lần chụp ảnh cho anh cô đã đem_lòng yêu chàng hot boy với nụ_cười tỏa nắng này tuy_nhiên khoảng_cách giữa hai người quá lớn miu lê chỉ là một cô_gái làm nghề nhiếp_ảnh cá_tính còn tuấn_kiệt lại là một hot boy điển_trai với tương_lai rộng_mở điều quan_trọng nhất là trước khi biết cô nhiếp_ảnh chàng_trai đã tìm được một_nửa của mình chấp_nhận là người đến sau miu lê chôn giấu tình_yêu sâu trong lòng và cầu_chúc cho tình_yêu của người_thương mỗi lúc nhớ tuấn_kiệt miu_lê thường ngắm lại những bức hình đã chụp về anh tất_cả những tấm ảnh đó chỉ làm cô thêm đau_lòng và cào xé tâm_can cuối_cùng cô quyết_định đi xa để tìm sự bình_yên trong tâm_hồn will 365 trong nơi anh không thuộc về nơi anh không thuộc về là một trong những mv khá đặc_biệt của 365 vì đây là lần đầu_tiên ngô_thanh_vân cho_phép các học_trò tình_tứ với gái lạ với mô típ mới 5 chàng_trai của 365 hóa_thân thành những hình_tượng khác nhau đáng chú_ý nhất phải kể đến will với hình_ảnh một chàng nhiếp_ảnh_gia điển_trai và đầy cá_tính anh có thói_quen lưu_giữ lại những hình_ảnh của người mình yêu điều đó đã khiến hình_ảnh của will trở_nên nổi_bật và ấn_tượng nhất so với các thành_viên trong mv này vì điều đó khi hai người chia_tay anh là người đau_đớn nhất khi nhớ về những kỷ_niệm chẳng thể_nào quên của hai người khi xưa rainboy_boys trong ước_mơ trong anh ước_mơ trong anh là mv thứ 2 của nhóm nhạc rainboy_boys sau mv ra_mắt đầu_tiên ấn_tượng walk_away trong mv này 7 chàng_trai_hóa_thân vào những câu_chuyện tình khá dễ_thương trong số đó chàng_trai điển_trai ryan_hải_đăng hô biến mình thành một chàng nhiếp_ảnh_gia đường_phố ghi lại những khoảnh_cách của cuộc_sống và con_người sài_gòn bên cạnh đó chàng còn ghi lại những khoảnh_khắc tình_yêu tuyệt_diệu của 6 thành_viên rainboy_boys nổi_bật và gây ấn_tượng đặc_biệt với khán_giả chính là hình_ảnh cuối_cùng của anh_chàng ira_hoàng_thy giúp người bạn gái đang ngồi trên xe_lăn đi dạo trên phố_phường đây cũng là khoảnh_khắc đầy ý_nghĩa khép lại ước_mơ trong anh v music trong xinh_tươi việt_nam là một trong những mv nổi_tiếng nhất của v music khi lê_thiên_bảo chưa tách nhóm xinh_tươi việt_nam cũng góp_phần giúp học_trò của hồ_ngọc_hà gây_dựng được hình_ảnh đẹp trong lòng công_chúng bốn chàng_trai hóa_thân thành những chàng nhiếp_ảnh_gia dễ_thương và điển_trai đi khắp miền để ghi lại những hình_ảnh đẹp về quê_hương đất_nước trong hành_trình đó các anh đã ghi lại những khoảnh_khắc khó quên về người con_gái việt_nam trong tà áo_dài một mv với những khoảnh_khắc ý_nghĩa 4 chàng nhiếp_ảnh_gia v music thực_sự đã mang đến một sản_phẩm đáng nhớ cho người xem tiêu_châu_như_quỳnh trong có bao điều hợp_tác cùng rapper antonio_maximus có bao điều là mv của tiêu_châu_như quỳnh sau khi rời khỏi giọng hát việt 2012 mv mang đến cho khán_giả những hình_ảnh về cuộc_sống thường_nhật của sài_gòn năng_động ồn_ã nhưng vẫn đầy bình_yên hóa_thân là một nữ nhiếp_ảnh_gia đường_phố cá_tính xinh_đẹp như quỳnh đã ghi lại nhiều khoảnh_khắc ấn_tượng qua thông_qua ống_kính của mình trong hành_trình rong_ruổi của mình một ngày nọ cô gặp một em bé bán hoa dạo sự trong_trẻo ngây_thơ và sự lam_lũ của cô_bé đã để lại nhiều suy_nghĩ trong nhiếp_ảnh_gia trẻ tuổi về những con_người thầm_lặng tạo nên sắc_màu rực_rỡ cho thủ_đô tươi đẹp mv chuyển_tải tới mọi người thông_điệp ý_nghĩa nếu chịu_khó quan_sát bạn sẽ thấy cuộc_sống quanh mình thật đẹp_đẽ và ấm_áp biết_bao phùng_ngọc_huy trong déjà_vu déjà_vu là mv đánh_dấu sự trở_lại của hồng_mơ giải 3 tiếng hát truyền_hình sau thời_gian ở ẩn trong mv bạn diễn của cô là nam ca_sĩ điển_trai phùng_ngọc_huy trong mv phùng_ngọc_huy vào vai anh_chàng nhiếp_ảnh đẹp_trai vô_tình thấy cô_gái bán hàng nước giỏi đàn hát đêm về anh mơ thấy cô xuất_hiện trên sân_khấu ca_nhạc với vai_trò ca_sĩ nổi_tiếng cảm_giác đó chỉ thoáng qua nhưng sau đó đã là hiện_thực khi anh_chàng vô_tình gặp lại cô theo đất_việt \n",
            "__label__nhịp_sống vợ phải quỳ gối mới được nói_chuyện cười zing vn hai bợm nhậu nói_chuyện với nhau dạo này mày đi nhậu mà không sợ vợ la_ó sao ôi trời vợ tao sợ tao lắm vậy là mày bản_lĩnh giống tao rồi mày biết không khi tao đi nhậu về vợ phải quỳ gối mới nói_chuyện được với tao thế thì mày hơn đứt tao rồi chỉ tao cách với dễ ợt khi nhậu về tao chui xuống gầm giường định_nghĩa kết_hôn với mỗi phái định_nghĩa kết_hôn lại khác nhau hoàn_toàn \n",
            "__label__công_nghệ lumia 520 sẽ có giá 3 9 triệu đồng tại việt_nam công_nghệ zing vn dự_kiến sản_phẩm sẽ được bán ra vào ngày 1 4 và việt_nam chính là thị_trường đầu_tiên nokia chọn để phát_hành chiếc điện_thoại chạy windows_phone 8 này lumia 520 sẽ có giá 3 9 triệu đồng tại việt_nam dự_kiến sản_phẩm sẽ được bán ra vào ngày 1 4 và việt_nam chính là thị_trường đầu_tiên nokia chọn để phát_hành chiếc điện_thoại chạy windows_phone 8 này lumia 520 là một trong 2 chiếc smartphone của nokia ra_mắt tại triển_lãm mwc vừa_qua sản_phẩm này được nhắm vào phân_khúc smartphone tầm thấp nhưng cấu_hình khá ấn_tượng cụ_thể lumia 520 tích_hợp màn_hình 4 inch độ_phân_giải 480x800 pixel chip lõi kép tốc_độ 1 ghz ram 512 mb và camera sau 5 megapixel không có đèn flash khi bán ra lumia 520 sẽ là điện_thoại windows_phone 8 rẻ nhất trên thị_trường đây được xem là cấu_hình mơ_ước đối_với một sản_phẩm tầm thấp đó là chưa kể đến việc nó còn được tích_hợp tính_năng cảm_ứng siêu_nhạy super_sensitive_touch cho khả_năng thao_tác cả bằng găng_tay dày bộ_nhớ_trong của máy là 8 gb máy mỏng 9 1 mm và nặng 124 gram bên cạnh đó chiếc lumia 720 cũng sẽ ra_mắt thị_trường việt trong đợt phát_hành này với giá 7 4 triệu đồng lumia 720 được đánh_giá cao tại mwc vừa_qua model này hướng đến phân_khúc smartphone tầm trung với màn_hình 4 3 inch độ_phân_giải wvga 480 x 800 pixel chip lõi kép tộc độ 1 2 ghz ram 512 mb và camera sau 6 7 megapixel camera của lumia 720 sử_dụng cùng ống_kính góc rộng carl_zeiss f 1 9 mà theo quảng_cáo của nokia là cho chất_lượng ảnh chụp ngang_ngửa với những smartphone có giá cao hơn nhiều lumia 720 sẽ có giá 7 4 triệu đồng lumia 720 được đánh_giá là chiếc smartphone đẹp nhất từ trước đến nay trong gia_đình nhà lumia với độ mỏng hợp_lý 9 mm nặng 128 gram và thiết_kế nguyên khối chắc_chắn model này cũng được tích_hợp tính_năng sạc không dây nhưng phải qua một bộ vỏ ngoài dự_kiến bộ đôi này sẽ được phát_hành ra thị_trường từ ngày 1 4 hiện_tại chuỗi cửa_hàng viettel_store đã chuẩn_bị nhận đặt trước sản_phẩm này 15 31 3 với nhiều phần quà hấp_dẫn chẳng_hạn như tặng phiếu mua hàng hoặc trúng một chiếc lumia 520 hoặc 720 miễn_phí thành_duy_theo infonet \n",
            "__label__thể_thao hà_nội t t chốt danh_sách dự afc cup thể_thao việt_nam zing vn tiền_vệ có lối chơi sáng_tạo bậc nhất của hà_nội t t benicio được hlv phan_thanh_hùng loại khỏi danh_sách dự afc cup để giành sức cho sân_chơi v league hà_nội t t chốt danh_sách dự afc cup tiền_vệ có lối chơi sáng_tạo bậc nhất của hà_nội t t benicio được hlv phan_thanh_hùng loại khỏi danh_sách dự afc cup để giành sức cho sân_chơi v league ngày hôm_qua hà_nội t t đã chính_thức chốt danh_sách cầu_thủ tham_dự sân_chơi afc_cup bất_chấp việc có lực_lượng khá mỏng ở mùa_giải năm nay hlv phan_thanh_hùng vẫn quyết_định sử_dụng những quân bài tốt nhất của mình cho sân_chơi châu_lục nội_binh có hồng_sơn hồng_minh văn_biển công_vinh ngoại_binh có cristiano gonzalo matias sự vắng_mặt đáng tiếc duy_nhất trong danh_sách dự afc_cup của hà_nội t t là tiền_vệ có lối chơi rất sáng_tạo benicio có_lẽ hlv phan_thanh_hùng quyết_định cất cầu_thủ con cưng này cho mục_tiêu bảo_vệ chức vô_địch v league theo kết_quả chia bảng afc_cup 2011 mới được lđbđ châu_á afc công_bố đương_kim vô_địch v league hà_nội t t sẽ nằm bảng g cùng clb muang_thong_united của thái_lan tampines_rovers singapore victory sc maldives đây là bảng đấu khá cân_bằng và thầy_trò hlv phan_thanh_hùng sẽ phải vất_vả tranh 2 vé đi tiếp với các đội mạnh của thái_lan và singapore dù vậy nếu chơi đúng sức hà_nội t t hoàn_toàn có khả_năng ghi tên vào vòng đấu_loại trực_tiếp giống như thành_tích mà b bình dương và shb_đà_nẵng đã làm được_mùa trước ngày 2 3 tới thầy_trò hlv phan_thanh_hùng sẽ chính_thức bước ra sân_chơi châu_lục với chuyến làm_khách của clb muang_thong_united lâm_thỏa_theo bưu_điện việt_nam \n",
            "__label__thời_sự vụ xe điên gây tai_nạn ở sài_gòn tài_xế bị tâm_thần thời_sự zing vn bị khống_chế sau khi gây tai_nạn liên_hoàn tài_xế xe bmw phun nước_bọt vung chân đạp loạn_xạ các cảnh_sát gia_đình cho_hay ông này bị bệnh_tâm_thần tâm_lý bất_ổn tối 21 11 công_an quận 3 tp hcm cho biết đã làm rõ một_số tình_tiết liên_quan đến vụ xe điên gây tai_nạn rồi tông csgt bỏ chạy tài_xế là ông phạm_cao_v ngụ quận 2 vẫn mất_tích gia_đình cùng cơ_quan_chức_năng đang truy_tìm 13h30 cùng ngày anh v lái_xe bmw màu trắng bks 63a lưu_thông trên đường điện_biên_phủ hướng từ nam_kỳ_khởi_nghĩa ra ngã tư hàng_xanh quận bình_thạnh trên đường đi tài_xế này gây tai_nạn với xe_máy do chị đỗ_thị_liên_h 29 tuổi ngụ quận tân_bình điều_khiển thấy ôtô không dừng lại mà bỏ chạy nhiều người đi đường đuổi theo tài_xế tông vào xe đặc_chủng để bỏ chạy ảnh nguyễn_thành chiếc bmw chạy đến giao_lộ điện_biên_phủ hai_bà_trưng thì bị một csgt chặn bắt tuy_nhiên tài_xế cố_tình tông vào xe đặc_chủng để thoát_thân csgt rút súng bắn chỉ_thiên cảnh_cáo do đường tắc nên tài_xế phải tấp vào lề_đường hai_bà_trưng nhưng lại chốt cửa cố_thủ trong xe hơn 30 phút sau trung_tá lê_văn_thanh tổ_trưởng điều_tra xử_lý tai_nạn đội csgt công_an quận 3 đến thuyết_phục ông v mới chịu mở_cửa tuy_nhiên anh ta phun nước_miếng vào anh_em vung chân đạp loạn_xạ và cào_cấu tôi ông thanh nói một_số người đi đường bức_xúc xông vào đánh tài_xế nhưng được csgt can_ngăn một lúc sau người_nhà xuất_hiện ông v mới dần bình_tâm rồi bỏ đi clip csgt khống_chế tài_xế ôtô điên tài_xế ôtô tông một cô_gái đi xe_máy rồi bỏ chạy khi bị cảnh_sát giao_thông yêu_cầu dừng thì nghi_can tông vào lực_lượng chức_năng cố_thủ trong xe sau đó gia_đình cung_cấp giấy_tờ xe bmw cùng giấy_tờ cá_nhân liên_quan đến ông v theo đó ôtô đứng_tên một công_ty ở tiền_giang nơi mẹ ông v làm_việc ông v có bệnh_án bệnh nan_y và được bệnh_viện xác_nhận bị tâm_thần trước khi bị bệnh người đàn_ông này có giấy_phép lái ôtô theo gia_đình ông v sau khi bị bệnh nan_y do dùng nhiều thuốc để điều_trị nên người này có dấu_hiệu tâm_thần tâm_lý bất_ổn gần đây ông ta liên_tục đòi lấy ôtô đi chơi gia_đình không cho thì đòi tuyệt_thực từ mặt mẹ và vợ_con trưa 21 11 thấy mọi người đi vắng ông v lấy ôtô đi lòng_vòng và gây ra vụ_việc lái_xe bmw tông cảnh_sát giao_thông ở sài_gòn tài_xế xe bmw tông một cô_gái đi xe_máy rồi bỏ chạy khi bị lực_lượng chức_năng yêu_cầu dừng tài_xế này tông xe vào cảnh_sát giao_thông và xe đặc_chủng sau đó cố_thủ bên trong \n",
            "__label__thế_giới lính nga nhảy_dù xuống tảng băng trôi trên bắc_cực thế_giới zing vn 50 binh_sĩ nga vừa đồng_loạt nhảy khỏi máy_bay ilyushin 76 xuống một tảng băng trôi gần bắc_cực trong cuộc tập_trận tìm_kiếm cứu nạn nguy_hiểm đại_tá yevgeny_meshkov phát_ngôn_viên lực_lượng lính_dù cho biết dù thời_tiết giá_lạnh kèm theo gió lớn nhưng các binh_sĩ vẫn thực_hiện tốt nhiệm_vụ tiếp đất và nhận hàng_hóa họ sử_dụng hệ_thống dù arbalet cho_phép nhảy ra từ máy_bay đang di_chuyển với vận_tốc 400 km h binh_sĩ nhảy_dù khỏi máy_bay ilyushin 76 ảnh itar tass theo quân_đội nga cuộc tập_trận này nhằm mục_đích tăng_cường khả_năng tìm_kiếm cứu nạn để ứng_phó kịp_thời với những tình_huống khẩn_cấp ở bắc_cực những người tham_gia tập_trận phải dựng trại trong điều_kiện khắc_nghiệt dao và súng_trường giúp họ chống lại các loài động_vật hoang_dã ngoài những con gấu_bắc_cực đói ăn sự va_chạm của các tảng băng trôi hay bề_mặt băng sụt lún có_thể khiến họ phải trả_giá bằng mạng sống cờ crimea tung bay ảnh rt những binh_sĩ tham_gia huấn_luyện sẽ cắm cờ crimea ở khu_vực đích_thân thủ_tướng crimea ông sergey_aksyonov trao lá cờ này cho các binh_sĩ bán bán_đảo crimea cũng là nơi đặt trụ_sở của hạm_đội biển_đen của nga \n",
            "__label__thời_trang ngắm vĩnh_thụy đầy chất chơi thời_trang zing vn những khoảnh_khắc ngẫu_hứng chụp tình_cờ vĩnh_thụy tại một nơi công_cộng đã vẽ nên một giải bạc siêu_mẫu mạnh_mẽ nam_tính và đầy chất chơi ngắm vĩnh_thụy đầy chất chơi những khoảnh_khắc ngẫu_hứng chụp tình_cờ vĩnh_thụy tại một nơi công_cộng đã vẽ nên một giải bạc siêu_mẫu mạnh_mẽ nam_tính và đầy chất chơi sau hơn hai tháng ròng_rã cùng đoàn phim và gần một tháng quay ngoại_cảnh ở đà_lạt vai diễn của vĩnh_thụy trong bộ phim nhật_ký bạch_tuyết đã kết_thúc hiện_tại vĩnh_thụy đang dành thời_gian nghỉ_ngơi để chuẩn_bị bước vào giai_đoạn tập_luyện cao_độ cho cuộc thi mister_international 2009 mà vĩnh_thụy sẽ là người_mẫu đại_diện việt_nam tham_dự mister_international là cuộc_thi mà tiến_đoàn đã từng đăng_quang năm 2008 năm nay cuộc thi sẽ diễn ra vào tháng 11 tại đài_loan chia_sẻ thêm những kế_hoạch sắp tới vĩnh_thụy tâm_sự hiện_tại có vài bộ phim đang mời thụy tham_gia nhưng thụy đang cân_nhắc về mặt thời_gian để đảm_bảo việc tập_luyện cho cuộc_thi mister_international sắp tới với cuộc_thi này thụy mong mình sẽ có cơ_hội tự trao dồi thêm kiến_thức về nghề cũng như có thêm dịp bước ra ngoài cọ_xát và hội_nhập cùng người_mẫu các nước khác mời bạn cùng ngắm bộ ảnh mới_mẻ của vĩnh_thụy theo dân_trí \n",
            "__label__du_lịch bố_mẹ dừng tàu lượn siêu_tốc vì lo cho con_gái du_lịch zing vn quá giận vì con chơi trò mạo_hiểm mà không được phép hai vị phụ_huynh đã cho dừng cả đoàn tàu lượn siêu_tốc trong một công_viên giải_trí ở trung_quốc theo scmp sự_việc diễn ra ở công_viên giải_trí queershan tại liễu_châu khu_tự_trị dân_tộc choang_quảng_tây hôm 6 2 một thiếu_nữ 14 tuổi rất muốn được đi tàu lượn siêu_tốc nhưng bố_mẹ không đồng_ý trong lúc họ sơ_ý em đã lẻn vào ngồi trên xe lo_lắng tức_giận vì hành_động của con_gái bố_mẹ em đã vào trung_tâm điều_khiển trò_chơi và yêu_cầu dừng tàu lượn lại ngay_lập_tức để họ đưa con_gái ra khỏi đoàn tàu nhân_viên khu giải_trí phải trèo lên đường_ray để đưa cô_gái xuống ảnh scmp đoàn tàu lượn dừng lại khi đã lăn bánh được một đoạn ngắn sự_việc bất_ngờ khiến các hành_khách tưởng có sự_cố về kỹ_thuật nhưng nhân_viên khu giải_trí giải_thích rằng chuyến đi bị ngừng lại do phụ_huynh không đồng_ý cho con_gái tham_gia sau sự_việc nhiều người lên_tiếng chỉ_trích cho_rằng ông bố bà mẹ hành_động thái quá tuy_vậy cũng có người tỏ ra thông_cảm trước sự lo_lắng của cặp vợ_chồng này đặc_biệt sau vụ tai_nạn về một thiếu_nữ 14 tuổi văng khỏi đu_quay và thiệt_mạng xảy ra hôm 3 2 ở công_viên zhaohua trùng_khánh trung_quốc \n",
            "__label__thời_sự cụ bà 84 tuổi đặc_trị bệnh chó dại thời_sự zing vn người bị chó dại cắn chưa phát bệnh thì chỉ cần liều duy_nhất kèm theo hướng_dẫn của bà cụ phạm_thị_trinh 84 tuổi là có_thể khỏi bệnh liều thuốc đặc_trị bệnh chó dại cắn nhiều năm trở_lại đây người_dân vùng núi nam_dương bắc_giang vẫn thường rỉ_tai nhau về cách điều_trị bệnh chó dại cắn độc_đáo bằng thuốc_nam của cụ bà phạm_thị_trinh sn 1931 ở thôn biềng xã nam_dương dù năm nay đã bước qua cái tuổi xưa_nay hiếm nhưng đôi mắt cụ vẫn rất tinh hàm_răng hạt bắp đen_láy không giống hình_ảnh chống gậy lưng còng như các cụ cùng độ tuổi khác tự tay pha ấm trà vùng nam_dương mời khách cụ trinh vừa kể về cơ_duyên với phương_thuốc đặc_biệt này cụ bảo mình sinh ra và lớn lên ở quỳnh_thái quỳnh_phụ thái_bình vào những năm 30 thế_kỷ trước trong một gia_đình đông anh_em gia_đình có truyền_thống bốc thuốc chữa bệnh từ nhiều đời trong nhà có rất nhiều các loại thuốc khác nhau hàng ngày có nhiều người tới khám bệnh trước đây các anh_chị tôi đi làm_ăn và lập gia_đình sớm chỉ còn tôi ở nhà hầu đèn nước cho thầy chữa bệnh thỉnh_thoảng hết thuốc thầy lại đeo bị dẫn tôi đi hái thuốc về sao thầy tôi có kể lại nghề bốc thuốc chữa bệnh được cụ nội truyền lại năm 9 tuổi tôi cũng có xin thầy được học bốc thuốc chữa bệnh nhưng thầy mắng con_gái học làm gì cụ kể thời đó cứ vào mùa hè nắng_nóng là bệnh chó dại lại tăng đột_biến trong vùng lại không ai chữa được bệnh nên hầu_như ngày nào cũng có người tới xin thuốc bà thường được bố cho l đi chế_biến thuốc theo hướng_dẫn do phương_thuốc đơn_giản nên bà còn nhớ rõ bà cụ phạm_thị_trinh 84 tuổi với phương_thuốc đặc_trị bệnh dại do chó cắn đến năm 14 tuổi chiến_tranh khiến cả gia_đình bà trinh phải sơ_tán lên vùng nam_dương huyện lục_nam để sinh_sống và nhanh_chóng hòa_nhập với môi_trường ở đây bằng nghề buôn các mặt_hàng nông_sản vào mùa nắng_nóng nhiều người_dân ở trong vùng bị chó dại cắn chứng_kiến cảnh người dân_nghèo không có tiền điều_trị nên phát dại không kiểm_soát được hành_vi và gây nguy_hại cho những người xung_quanh bà trinh bắt_đầu điều_chế liều thuốc chữa_trị mà từng phụ thầy chữa bệnh trước đó những viên thuốc đặc_trị virus dại do chó cắn được điều_chế vê thành từng viên màu đen như hạt nhãn liều thuốc được lấy từ những nguyên_liệu rất đơn_giản và gần_gũi gồm nhọ_nồi nọc_độc con cành cành gạo_nếp cơm nhão trong đó quan_trọng nhất là nọc_độc của con cành cành hay còn gọi là con văn_liệu có đầu màu đỏ thường thấy ở ruộng rau_muống khi bắt được con cành cành chỉ cần lấy phần nọc_độc ở đuôi đem phơi khô và tán nhuyễn thành bột gạo_nếp được sao vàng và tán nhuyễn nhọ_nồi chỉ được lấy từ chảo nấu bếp củi không được lấy từ các nồi khác ba nguyên_liệu trên cùng với cơm nhão kết_hợp theo tỉ_lệ 1 1 1 1 sau đó dùng tay vê thành từng viên bằng đầu đũa rồi đem phơi khô là dùng được viên thuốc khi điều_chế xong sẽ có màu xám đen giống như hạt nhãn cứu người bị chó dại cắn cầm lọ thuốc trên tay cụ trinh cho_biết mỗi lần chế thuốc đều làm sẵn một lọ dự_phòng loại thuốc này không mùi không vị khi uống vào sẽ có cảm_giác say người nôn_nao rất mệt_mỏi tùy vào thể_trạng của mỗi người sẽ sử_dụng liều_lượng phù_hợp người bình_thường sẽ được dùng một liều 6 7 viên cùng một lúc nếu ai có_thể trạng béo tốt sẽ dùng tới 10 viên hay người thể_trạng yếu hơn sẽ chỉ dùng 4 5 viên sau bữa cơm thuốc sẽ cho tác_dụng về cảm_giác khắp cơ_thể chỉ sau vài phút uống người mệt_mỏi nôn_nao khó_chịu sau khi sử_dụng liều thuốc cần phải kiêng_kỵ nhạc đám_ma hai ba tháng ngoài_ra người_bệnh cũng cần phải ăn_uống điều_độ bồi_bổ sức_khỏe mới nhanh hồi lại sức với loại thuốc này người bình_thường uống vào cũng sẽ có cảm_giác mệt_mỏi như người_bệnh tuy_nhiên nếu không thực_sự bị chó dại cắn thì không nên dùng thuốc bởi nó sẽ gây tình_trạng mệt_mỏi nhiều ngày cụ trinh chia_sẻ nghe thì phương_thuốc khá đơn_giản với những nguyên_liệu sẵn có nhưng khi bắt_tay vào làm không hề như_vậy vì trong thành_phần có nọc_độc của côn_trùng nếu làm không đúng tỉ_lệ và quy_trình thì sẽ phản_tác_dụng anh nguyễn_thọ_ngát phải ảnh con_trai út cụ trinh kể về những kỷ_niệm người_bệnh tới điều_trị tại nhà nhắc tới những bệnh_nhân mình từng chữa_trị bà trinh cho_hay cách đây vài năm có một người đàn_ông ở cùng xã nhưng khác thôn bị chó dại cắn sau nhiều ngày mới đến xin thuốc lúc đó số thuốc dự_phòng không đủ liều chữa_trị mà vào mùa khô nguyên_liệu gần_như không có tôi khuyên người_nhà đưa đi bệnh_viện tiêm vắc xin cho kịp tuy_nhiên gia_đình khó_khăn và biết tôi từng điều_trị cứu nhiều người nên đã xin được tôi chữa_trị lúc đó thấy hoàn_cảnh bệnh_nhân khó_khăn tôi đi khắp các ruộng rau nhưng cũng chỉ bắt được vài con cành cành về sao cùng các nguyên_liệu khác làm thuốc may_mắn là cộng với số thuốc còn lại trong lọ vừa đủ một liều điều_trị phải mất hai ngày sau người_bệnh đó mới được uống thuốc và không có biểu_hiện gì lạ anh nguyễn_thọ_ngát 42 tuổi con_trai út cụ trinh chia_sẻ thuốc của mẹ tôi chỉ có tác_dụng với những người mới bị chó dại cắn nghĩa_là chưa phát dại người nào có biểu_hiện xùi bọt mép không điều_khiển được hành_vi bản_thân nữa thì thuốc vô tác_dụng tính ra cũng hàng ngàn viên thuốc được điều_chế và chữa cho hàng trăm người trong vùng mẹ tôi cũng từng thử thuốc cho một con chó mới bị cắn bởi con chó dại khác kết_quả con chó được cứu sống và khỏe_mạnh còn ông nguyễn_văn_kính chủ_tịch ubnd xã nam_dương cho biết bà_phạm_thị_trinh đã sống ở đây nhiều năm và được người_dân trong vùng biết đến với phương_thuốc đặc_trị virus dại rất nhiều người không_chỉ trong xã mà các vùng lân_cận cũng tới xin được điều_trị bà trinh thường cho thuốc miễn_phí và chữa khỏi hoàn_toàn cho họ \n"
          ]
        }
      ]
    },
    {
      "cell_type": "code",
      "metadata": {
        "scrolled": true,
        "id": "jpZ60BlfMwyF",
        "colab_type": "code",
        "colab": {},
        "outputId": "7832b310-c7ea-4dd2-e04a-12690af7039f"
      },
      "source": [
        "# Thống kê số lượng data theo nhãn\n",
        "count = {}\n",
        "for line in open('news_categories.txt'):\n",
        "    key = line.split()[0]\n",
        "    count[key] = count.get(key, 0) + 1\n",
        "\n",
        "for key in count:\n",
        "    print(key, count[key])"
      ],
      "execution_count": 4,
      "outputs": [
        {
          "output_type": "stream",
          "name": "stdout",
          "text": [
            "__label__thể_thao 2611\n__label__âm_nhạc 2595\n__label__nhịp_sống 2613\n__label__công_nghệ 2595\n__label__thời_sự 2607\n__label__thế_giới 2602\n__label__thời_trang 2596\n__label__du_lịch 2593\n__label__sống_trẻ 2602\n__label__giáo_dục 2603\n__label__kinh_doanh 2597\n__label__pháp_luật 2592\n__label__giải_trí 2604\n__label__phim_ảnh 2596\n__label__xe_360 2602\n__label__ẩm_thực 2482\n__label__xuất_bản 2599\n__label__sức_khỏe 2589\n"
          ]
        }
      ]
    },
    {
      "cell_type": "code",
      "metadata": {
        "id": "ClZ0AZOoMwyL",
        "colab_type": "code",
        "colab": {},
        "outputId": "b1e7b2df-2cd7-4a34-ab26-6034d43e3880"
      },
      "source": [
        "# Thống kê các word xuất hiện ở tất cả các nhãn\n",
        "total_label = 18\n",
        "vocab = {}\n",
        "label_vocab = {}\n",
        "for line in open('news_categories.txt'):\n",
        "    words = line.split()\n",
        "    # lưu ý từ đầu tiên là nhãn\n",
        "    label = words[0]\n",
        "    if label not in label_vocab:\n",
        "        label_vocab[label] = {}\n",
        "    for word in words[1:]:\n",
        "        label_vocab[label][word] = label_vocab[label].get(word, 0) + 1\n",
        "        if word not in vocab:\n",
        "            vocab[word] = set()\n",
        "        vocab[word].add(label)\n",
        "\n",
        "count = {}\n",
        "for word in vocab:\n",
        "    if len(vocab[word]) == total_label:\n",
        "        count[word] = min([label_vocab[x][word] for x in label_vocab])\n",
        "        \n",
        "sorted_count = sorted(count, key=count.get, reverse=True)\n",
        "for word in sorted_count[:100]:\n",
        "    print(word, count[word])"
      ],
      "execution_count": 5,
      "outputs": [
        {
          "output_type": "stream",
          "name": "stdout",
          "text": [
            "và 14255\ncủa 13177\nlà 9983\ncó 9162\nđược 9131\ntrong 8654\nmột 7575\ncho 7483\nvới 7195\nkhông 6591\ncác 6300\nngười 6088\nkhi 6011\nnày 5301\nđến 5165\nđể 5123\nđã 4431\nnhiều 4167\ntrên 3842\ntừ 3820\nvào 3617\nđó 3207\nnhững 3097\nở 2943\nra 2767\ntại 2756\nvn 2738\nlại 2673\ncũng 2622\nphải 2615\ncòn 2589\ntheo 2565\nnhưng 2545\nzing 2519\nvề 2170\nsau 2047\nlàm 1983\nlên 1921\nhơn 1755\nđây 1692\nnăm 1654\nsẽ 1597\nchỉ 1569\ncả 1534\ncùng 1490\nngày 1484\nnhư 1467\nmà 1458\nvẫn 1386\nđi 1373\n2 1358\nmới 1357\nkhác 1300\n3 1296\nhai 1278\nqua 1250\nbạn 1138\nbên 1137\n1 1136\nkhiến 1122\n5 1114\nlần 1051\nmình 1045\nlớn 1030\nbị 1022\nbiết 1013\ntrước 1000\nrất 991\ntới 968\nbằng 948\nmang 929\nnên 897\n4 896\nđang 870\nnước 863\ncách 863\nviệt_nam 861\nđầu 849\n10 847\nviệc 840\nnếu 835\nvừa 826\nthấy 824\nhàng 807\nvì 806\nảnh 799\nđều 796\nnhau 788\nthời_gian 787\nsự 764\nanh 760\n6 737\nnhất 733\nngoài 720\nđiều 712\nhay 706\ngiữa 699\nsố 699\ntừng 697\nthêm 692\n"
          ]
        }
      ]
    },
    {
      "cell_type": "code",
      "metadata": {
        "id": "nL9ZaOgNMwyO",
        "colab_type": "code",
        "colab": {}
      },
      "source": [
        "# loại stopword khỏi dữ liệu\n",
        "# lưu file dùng về sau\n",
        "stopword = set()\n",
        "with open('stopwords.txt', 'w') as fp:\n",
        "    for word in sorted_count[:100]:\n",
        "        stopword.add(word)\n",
        "        fp.write(word + '\\n')\n",
        "    \n",
        "def remove_stopwords(line):\n",
        "    words = []\n",
        "    for word in line.strip().split():\n",
        "        if word not in stopword:\n",
        "            words.append(word)\n",
        "    return ' '.join(words)\n",
        "    \n",
        "    \n",
        "with open('news_categories.prep', 'w') as fp:\n",
        "    for line in open('news_categories.txt'):\n",
        "        line = remove_stopwords(line)\n",
        "        fp.write(line + '\\n')"
      ],
      "execution_count": 6,
      "outputs": []
    },
    {
      "cell_type": "code",
      "metadata": {
        "id": "2C-K8a0qMwyR",
        "colab_type": "code",
        "colab": {},
        "outputId": "ceaf0f2a-418f-4ed8-c0e1-16f95487a8b2"
      },
      "source": [
        "!head news_categories.prep"
      ],
      "execution_count": 7,
      "outputs": [
        {
          "output_type": "stream",
          "name": "stdout",
          "text": [
            "__label__thể_thao sanchez dự trận khai màn nh arsenal bóng_đá tuyển_thủ chile kịp hồi_phục thể_lực pháo thủ_thành london tham_dự trận đầu_tiên premier_league 2015 2016 diễn 9 8 arsenal singapore liverpool đổ_bộ xuống thái_lan đội_bóng danh_tiếng giải ngoại_hạng_anh bắt_đầu chuyến du_đấu châu á thầy_trò hlv brendan_rodgers có_mặt thái_lan chuẩn_bị trận_đấu diễn 14 7 trả_lời phỏng_vấn chuyến du_đấu singapore hlv arsene_wenger xác_nhận tiền_đạo alexis_sanchez vắng_mặt trận khai màn premier_league chiến_lược gia pháp cựu ngôi_sao barca cần nghỉ_ngơi tham_dự copa_america quê_hương alexis trở_lại arsenal 8 cầu_thủ thường lấy thể_lực khoảng tuần có_thể thi_đấu alexis có_thể nghỉ ít tuy_nhiên ấy chắc_chắn tham_dự trận_đấu đầu_tiên mùa_giải trang bbc dẫn bài phỏng_vấn hlv wenger trận xông đất premier_league sanchez góp_mặt trận tranh community_shield chelsea bởi trận_đấu diễn 8 chân_sút 26 tuổi trở_lại arsenal sanchez nhân_tố then_chốt giúp chile vô_địch copa_america bbc mùa_giải vừa_qua cựu tiền_đạo barcelona thi_đấu thuyết_phục ghi 25 bàn 52 trận giúp pháo_thủ vô_địch fa_cup cán đích vị_trí thứ premier_league arsenal giành vé dự vòng bảng champions_league mùa copa_america vừa_qua sanchez ghi bàn tuy_nhiên giới chuyên_môn đánh_giá mắt_xích quan_trọng giúp chủ_nhà chile tiến chung_kết trận_đấu cuối_cùng sanchez đồng_đội xuất_sắc đánh_bại argentina vô_địch giải_đấu danh_giá nam_mỹ lịch arsenal nổ tiếng súng lệnh premier_league mùa tiếp west_ham sân_nhà lúc 19h30 9 8 giống alexis_sanchez bộ đôi hậu_vệ pablo_zabaleta martin_demichelis kịp manchester_city đá trận khai_mạc premier_league manchester_united nhận phục_vụ angel_di_maria marcos_rojo bốn cầu_thủ đá trọn trận chung_kết copa_america đội_tuyển argentina arsenal f c câu_lạc_bộ bóng_đá arsenal biệt_danh pháo_thủ câu_lạc_bộ bóng_đá trụ_sở holloway london câu_lạc_bộ hiện chơi giải bóng_đá ngoại_hạng_anh câu_lạc_bộ thành_công bóng_đá arsenal giành tổng_cộng 13 danh_hiệu vô_địch quốc_gia 1913 đội_bóng chuyển phía bắc lấy sân_vận_động highbury sân_nhà thi_đấu suốt 93 2006 đội_bóng chuyển sân_vận_động emirates lấy sân_nhà nay arsenal câu_lạc_bộ kình_địch đội_bóng khu_vực tottenham_hotspur thierry_henry cầu_thủ ghi_bàn câu_lạc_bộ 228 bàn_thắng 1999 2007 2012 thành_lập 1886 biệt_danh pháo_thủ sân_vận_động emirates\n__label__âm_nhạc sao việt hóa_thân thành phó nháy mv nhạc_việt miu_lê tiêu_châu_như_quỳnh phùng_ngọc_huy chọn hình_tượng nhiếp_ảnh_gia xuất_hiện sản_phẩm riêng sao việt hóa_thân thành phó nháy mv miu_lê tiêu_châu_như_quỳnh phùng_ngọc_huy chọn hình_tượng nhiếp_ảnh_gia xuất_hiện sản_phẩm riêng miu lê lặng thầm yêu lặng_thầm yêu mv đánh_dấu trưởng_thành miu_lê 2012 sản_phẩm cô hóa_thân thành nàng nhiếp_ảnh_gia xinh_đẹp cá_tính công_việc dường_như dành phái_mạnh cô cơ_duyên gặp_gỡ tình_yêu hot boy tuấn_kiệt chụp cô đem_lòng yêu chàng hot boy nụ_cười tỏa nắng tuy_nhiên khoảng_cách quá miu lê cô_gái nghề nhiếp_ảnh cá_tính tuấn_kiệt hot boy điển_trai tương_lai rộng_mở quan_trọng cô nhiếp_ảnh chàng_trai tìm một_nửa chấp_nhận miu lê chôn giấu tình_yêu sâu lòng cầu_chúc tình_yêu người_thương mỗi lúc nhớ tuấn_kiệt miu_lê thường ngắm bức hình chụp tất_cả tấm cô đau_lòng cào xé tâm_can cuối_cùng cô quyết_định xa tìm bình_yên tâm_hồn will 365 nơi thuộc nơi thuộc mv khá đặc_biệt 365 đầu_tiên ngô_thanh_vân cho_phép học_trò tình_tứ gái lạ mô típ chàng_trai 365 hóa_thân thành hình_tượng đáng chú_ý kể will hình_ảnh chàng nhiếp_ảnh_gia điển_trai đầy cá_tính thói_quen lưu_giữ hình_ảnh yêu hình_ảnh will trở_nên nổi_bật ấn_tượng so thành_viên mv chia_tay đau_đớn nhớ kỷ_niệm chẳng thể_nào quên xưa rainboy_boys ước_mơ ước_mơ mv thứ nhóm nhạc rainboy_boys mv ra_mắt đầu_tiên ấn_tượng walk_away mv 7 chàng_trai_hóa_thân câu_chuyện tình khá dễ_thương chàng_trai điển_trai ryan_hải_đăng hô biến thành chàng nhiếp_ảnh_gia đường_phố ghi khoảnh_cách cuộc_sống con_người sài_gòn cạnh chàng ghi khoảnh_khắc tình_yêu tuyệt_diệu thành_viên rainboy_boys nổi_bật gây ấn_tượng đặc_biệt khán_giả chính hình_ảnh cuối_cùng anh_chàng ira_hoàng_thy giúp gái ngồi xe_lăn dạo phố_phường khoảnh_khắc đầy ý_nghĩa khép ước_mơ v music xinh_tươi mv nổi_tiếng v music lê_thiên_bảo chưa tách nhóm xinh_tươi góp_phần giúp học_trò hồ_ngọc_hà gây_dựng hình_ảnh đẹp lòng công_chúng bốn chàng_trai hóa_thân thành chàng nhiếp_ảnh_gia dễ_thương điển_trai khắp miền ghi hình_ảnh đẹp quê_hương đất_nước hành_trình ghi khoảnh_khắc khó quên con_gái tà áo_dài mv khoảnh_khắc ý_nghĩa chàng nhiếp_ảnh_gia v music thực_sự sản_phẩm đáng nhớ xem tiêu_châu_như_quỳnh bao hợp_tác rapper antonio_maximus bao mv tiêu_châu_như quỳnh rời khỏi giọng hát việt 2012 mv khán_giả hình_ảnh cuộc_sống thường_nhật sài_gòn năng_động ồn_ã đầy bình_yên hóa_thân nữ nhiếp_ảnh_gia đường_phố cá_tính xinh_đẹp quỳnh ghi khoảnh_khắc ấn_tượng thông_qua ống_kính hành_trình rong_ruổi nọ cô gặp em bé bán hoa dạo trong_trẻo ngây_thơ lam_lũ cô_bé suy_nghĩ nhiếp_ảnh_gia trẻ tuổi con_người thầm_lặng tạo sắc_màu rực_rỡ thủ_đô tươi đẹp mv chuyển_tải mọi thông_điệp ý_nghĩa chịu_khó quan_sát cuộc_sống quanh thật đẹp_đẽ ấm_áp biết_bao phùng_ngọc_huy déjà_vu déjà_vu mv đánh_dấu trở_lại hồng_mơ giải tiếng hát truyền_hình ẩn mv diễn cô nam ca_sĩ điển_trai phùng_ngọc_huy mv phùng_ngọc_huy vai anh_chàng nhiếp_ảnh đẹp_trai vô_tình cô_gái bán giỏi đàn hát đêm mơ cô xuất_hiện sân_khấu ca_nhạc vai_trò ca_sĩ nổi_tiếng cảm_giác thoáng hiện_thực anh_chàng vô_tình gặp cô đất_việt\n__label__nhịp_sống vợ quỳ gối nói_chuyện cười bợm nhậu nói_chuyện dạo mày nhậu sợ vợ la_ó sao ôi trời vợ tao sợ tao lắm vậy mày bản_lĩnh giống tao rồi mày tao nhậu vợ quỳ gối nói_chuyện tao thế thì mày đứt tao rồi tao dễ ợt nhậu tao chui xuống gầm giường định_nghĩa kết_hôn mỗi phái định_nghĩa kết_hôn hoàn_toàn\n__label__công_nghệ lumia 520 giá 9 triệu đồng công_nghệ dự_kiến sản_phẩm bán chính thị_trường đầu_tiên nokia chọn phát_hành chiếc điện_thoại chạy windows_phone 8 lumia 520 giá 9 triệu đồng dự_kiến sản_phẩm bán chính thị_trường đầu_tiên nokia chọn phát_hành chiếc điện_thoại chạy windows_phone 8 lumia 520 chiếc smartphone nokia ra_mắt triển_lãm mwc vừa_qua sản_phẩm nhắm phân_khúc smartphone tầm thấp cấu_hình khá ấn_tượng cụ_thể lumia 520 tích_hợp màn_hình inch độ_phân_giải 480x800 pixel chip lõi kép tốc_độ ghz ram 512 mb camera megapixel đèn flash bán lumia 520 điện_thoại windows_phone 8 rẻ thị_trường xem cấu_hình mơ_ước đối_với sản_phẩm tầm thấp chưa kể nó tích_hợp tính_năng cảm_ứng siêu_nhạy super_sensitive_touch khả_năng thao_tác găng_tay dày bộ_nhớ_trong máy 8 gb máy mỏng 9 mm nặng 124 gram cạnh chiếc lumia 720 ra_mắt thị_trường việt đợt phát_hành giá 7 triệu đồng lumia 720 đánh_giá cao mwc vừa_qua model hướng phân_khúc smartphone tầm trung màn_hình inch độ_phân_giải wvga 480 x 800 pixel chip lõi kép tộc độ ghz ram 512 mb camera 7 megapixel camera lumia 720 sử_dụng ống_kính góc rộng carl_zeiss f 9 quảng_cáo nokia chất_lượng chụp ngang_ngửa smartphone giá cao lumia 720 giá 7 triệu đồng lumia 720 đánh_giá chiếc smartphone đẹp nay gia_đình nhà lumia độ mỏng hợp_lý 9 mm nặng 128 gram thiết_kế nguyên khối chắc_chắn model tích_hợp tính_năng sạc dây bộ vỏ dự_kiến bộ đôi phát_hành thị_trường hiện_tại chuỗi cửa_hàng viettel_store chuẩn_bị nhận đặt sản_phẩm 15 31 phần quà hấp_dẫn chẳng_hạn tặng phiếu mua hoặc trúng chiếc lumia 520 hoặc 720 miễn_phí thành_duy_theo infonet\n__label__thể_thao hà_nội t t chốt danh_sách dự afc cup thể_thao tiền_vệ lối chơi sáng_tạo bậc hà_nội t t benicio hlv phan_thanh_hùng loại khỏi danh_sách dự afc cup giành sức sân_chơi v league hà_nội t t chốt danh_sách dự afc cup tiền_vệ lối chơi sáng_tạo bậc hà_nội t t benicio hlv phan_thanh_hùng loại khỏi danh_sách dự afc cup giành sức sân_chơi v league hôm_qua hà_nội t t chính_thức chốt danh_sách cầu_thủ tham_dự sân_chơi afc_cup bất_chấp lực_lượng khá mỏng mùa_giải nay hlv phan_thanh_hùng quyết_định sử_dụng quân bài tốt sân_chơi châu_lục nội_binh hồng_sơn hồng_minh văn_biển công_vinh ngoại_binh cristiano gonzalo matias vắng_mặt đáng tiếc duy_nhất danh_sách dự afc_cup hà_nội t t tiền_vệ lối chơi sáng_tạo benicio có_lẽ hlv phan_thanh_hùng quyết_định cất cầu_thủ con cưng mục_tiêu bảo_vệ chức vô_địch v league kết_quả chia bảng afc_cup 2011 lđbđ châu_á afc công_bố đương_kim vô_địch v league hà_nội t t nằm bảng g clb muang_thong_united thái_lan tampines_rovers singapore victory sc maldives bảng đấu khá cân_bằng thầy_trò hlv phan_thanh_hùng vất_vả tranh vé tiếp đội mạnh thái_lan singapore dù vậy chơi đúng sức hà_nội t t hoàn_toàn khả_năng ghi tên vòng đấu_loại trực_tiếp giống thành_tích b bình dương shb_đà_nẵng được_mùa thầy_trò hlv phan_thanh_hùng chính_thức bước sân_chơi châu_lục chuyến làm_khách clb muang_thong_united lâm_thỏa_theo bưu_điện\n__label__thời_sự vụ xe điên gây tai_nạn sài_gòn tài_xế tâm_thần thời_sự khống_chế gây tai_nạn liên_hoàn tài_xế xe bmw phun nước_bọt vung chân đạp loạn_xạ cảnh_sát gia_đình cho_hay ông bệnh_tâm_thần tâm_lý bất_ổn tối 21 11 công_an quận tp hcm rõ một_số tình_tiết liên_quan vụ xe điên gây tai_nạn rồi tông csgt bỏ chạy tài_xế ông phạm_cao_v ngụ quận mất_tích gia_đình cơ_quan_chức_năng truy_tìm 13h30 v lái_xe bmw màu trắng bks 63a lưu_thông đường điện_biên_phủ hướng nam_kỳ_khởi_nghĩa ngã tư hàng_xanh quận bình_thạnh đường tài_xế gây tai_nạn xe_máy do chị đỗ_thị_liên_h 29 tuổi ngụ quận tân_bình điều_khiển ôtô dừng bỏ chạy đường đuổi tài_xế tông xe đặc_chủng bỏ chạy nguyễn_thành chiếc bmw chạy giao_lộ điện_biên_phủ hai_bà_trưng thì csgt chặn bắt tuy_nhiên tài_xế cố_tình tông xe đặc_chủng thoát_thân csgt rút súng bắn chỉ_thiên cảnh_cáo do đường tắc tài_xế tấp lề_đường hai_bà_trưng chốt cửa cố_thủ xe 30 phút trung_tá lê_văn_thanh tổ_trưởng điều_tra xử_lý tai_nạn đội csgt công_an quận thuyết_phục ông v chịu mở_cửa tuy_nhiên ta phun nước_miếng anh_em vung chân đạp loạn_xạ cào_cấu tôi ông thanh nói một_số đường bức_xúc xông đánh tài_xế csgt can_ngăn lúc người_nhà xuất_hiện ông v dần bình_tâm rồi bỏ clip csgt khống_chế tài_xế ôtô điên tài_xế ôtô tông cô_gái xe_máy rồi bỏ chạy cảnh_sát giao_thông yêu_cầu dừng thì nghi_can tông lực_lượng chức_năng cố_thủ xe gia_đình cung_cấp giấy_tờ xe bmw giấy_tờ cá_nhân liên_quan ông v ôtô đứng_tên công_ty tiền_giang nơi mẹ ông v làm_việc ông v bệnh_án bệnh nan_y bệnh_viện xác_nhận tâm_thần bệnh đàn_ông giấy_phép lái ôtô gia_đình ông v bệnh nan_y do dùng thuốc điều_trị dấu_hiệu tâm_thần tâm_lý bất_ổn gần ông ta liên_tục đòi lấy ôtô chơi gia_đình thì đòi tuyệt_thực mặt mẹ vợ_con trưa 21 11 mọi vắng ông v lấy ôtô lòng_vòng gây vụ_việc lái_xe bmw tông cảnh_sát giao_thông sài_gòn tài_xế xe bmw tông cô_gái xe_máy rồi bỏ chạy lực_lượng chức_năng yêu_cầu dừng tài_xế tông xe cảnh_sát giao_thông xe đặc_chủng cố_thủ\n__label__thế_giới lính nga nhảy_dù xuống tảng băng trôi bắc_cực thế_giới 50 binh_sĩ nga đồng_loạt nhảy khỏi máy_bay ilyushin 76 xuống tảng băng trôi gần bắc_cực cuộc tập_trận tìm_kiếm cứu nạn nguy_hiểm đại_tá yevgeny_meshkov phát_ngôn_viên lực_lượng lính_dù dù thời_tiết giá_lạnh kèm gió binh_sĩ thực_hiện tốt nhiệm_vụ tiếp đất nhận hàng_hóa họ sử_dụng hệ_thống dù arbalet cho_phép nhảy máy_bay di_chuyển vận_tốc 400 km h binh_sĩ nhảy_dù khỏi máy_bay ilyushin 76 itar tass quân_đội nga cuộc tập_trận nhằm mục_đích tăng_cường khả_năng tìm_kiếm cứu nạn ứng_phó kịp_thời tình_huống khẩn_cấp bắc_cực tham_gia tập_trận dựng trại điều_kiện khắc_nghiệt dao súng_trường giúp họ chống loài động_vật hoang_dã con gấu_bắc_cực đói ăn va_chạm tảng băng trôi bề_mặt băng sụt lún có_thể họ trả_giá mạng sống cờ crimea tung bay rt binh_sĩ tham_gia huấn_luyện cắm cờ crimea khu_vực đích_thân thủ_tướng crimea ông sergey_aksyonov trao lá cờ binh_sĩ bán bán_đảo crimea nơi đặt trụ_sở hạm_đội biển_đen nga\n__label__thời_trang ngắm vĩnh_thụy đầy chất chơi thời_trang khoảnh_khắc ngẫu_hứng chụp tình_cờ vĩnh_thụy nơi công_cộng vẽ giải bạc siêu_mẫu mạnh_mẽ nam_tính đầy chất chơi ngắm vĩnh_thụy đầy chất chơi khoảnh_khắc ngẫu_hứng chụp tình_cờ vĩnh_thụy nơi công_cộng vẽ giải bạc siêu_mẫu mạnh_mẽ nam_tính đầy chất chơi tháng ròng_rã đoàn phim gần tháng quay ngoại_cảnh đà_lạt vai diễn vĩnh_thụy bộ phim nhật_ký bạch_tuyết kết_thúc hiện_tại vĩnh_thụy dành nghỉ_ngơi chuẩn_bị bước giai_đoạn tập_luyện cao_độ cuộc thi mister_international 2009 vĩnh_thụy người_mẫu đại_diện tham_dự mister_international cuộc_thi tiến_đoàn đăng_quang 2008 nay cuộc thi diễn tháng 11 đài_loan chia_sẻ kế_hoạch sắp vĩnh_thụy tâm_sự hiện_tại vài bộ phim mời thụy tham_gia thụy cân_nhắc mặt đảm_bảo tập_luyện cuộc_thi mister_international sắp cuộc_thi thụy mong cơ_hội tự trao dồi kiến_thức nghề dịp bước cọ_xát hội_nhập người_mẫu mời ngắm bộ mới_mẻ vĩnh_thụy dân_trí\n__label__du_lịch bố_mẹ dừng tàu lượn siêu_tốc lo con_gái du_lịch quá giận con chơi trò mạo_hiểm phép vị phụ_huynh dừng đoàn tàu lượn siêu_tốc công_viên giải_trí trung_quốc scmp sự_việc diễn công_viên giải_trí queershan liễu_châu khu_tự_trị dân_tộc choang_quảng_tây hôm thiếu_nữ 14 tuổi muốn tàu lượn siêu_tốc bố_mẹ đồng_ý lúc họ sơ_ý em lẻn ngồi xe lo_lắng tức_giận hành_động con_gái bố_mẹ em trung_tâm điều_khiển trò_chơi yêu_cầu dừng tàu lượn ngay_lập_tức họ đưa con_gái khỏi đoàn tàu nhân_viên khu giải_trí trèo đường_ray đưa cô_gái xuống scmp đoàn tàu lượn dừng lăn bánh đoạn ngắn sự_việc bất_ngờ hành_khách tưởng sự_cố kỹ_thuật nhân_viên khu giải_trí giải_thích rằng chuyến ngừng do phụ_huynh đồng_ý con_gái tham_gia sự_việc lên_tiếng chỉ_trích cho_rằng ông bố bà mẹ hành_động thái quá tuy_vậy tỏ thông_cảm lo_lắng cặp vợ_chồng đặc_biệt vụ tai_nạn thiếu_nữ 14 tuổi văng khỏi đu_quay thiệt_mạng xảy hôm công_viên zhaohua trùng_khánh trung_quốc\n__label__thời_sự cụ bà 84 tuổi đặc_trị bệnh chó dại thời_sự chó dại cắn chưa phát bệnh thì cần liều duy_nhất kèm hướng_dẫn bà cụ phạm_thị_trinh 84 tuổi có_thể khỏi bệnh liều thuốc đặc_trị bệnh chó dại cắn trở_lại người_dân vùng núi nam_dương bắc_giang thường rỉ_tai điều_trị bệnh chó dại cắn độc_đáo thuốc_nam cụ bà phạm_thị_trinh sn 1931 thôn biềng xã nam_dương dù nay bước cái tuổi xưa_nay hiếm đôi mắt cụ tinh hàm_răng hạt bắp đen_láy giống hình_ảnh chống gậy lưng còng cụ độ tuổi tự tay pha ấm trà vùng nam_dương mời khách cụ trinh kể cơ_duyên phương_thuốc đặc_biệt cụ bảo sinh quỳnh_thái quỳnh_phụ thái_bình 30 thế_kỷ gia_đình đông anh_em gia_đình truyền_thống bốc thuốc chữa bệnh đời nhà loại thuốc khám bệnh anh_chị tôi làm_ăn lập gia_đình sớm tôi nhà hầu đèn thầy chữa bệnh thỉnh_thoảng hết thuốc thầy đeo dẫn tôi hái thuốc sao thầy tôi kể nghề bốc thuốc chữa bệnh cụ nội truyền 9 tuổi tôi xin thầy học bốc thuốc chữa bệnh thầy mắng con_gái học gì cụ kể thời cứ mùa hè nắng_nóng bệnh chó dại tăng đột_biến vùng ai chữa bệnh hầu_như nào xin thuốc bà thường bố l chế_biến thuốc hướng_dẫn do phương_thuốc đơn_giản bà nhớ rõ bà cụ phạm_thị_trinh 84 tuổi phương_thuốc đặc_trị bệnh dại do chó cắn 14 tuổi chiến_tranh gia_đình bà trinh sơ_tán vùng nam_dương huyện lục_nam sinh_sống nhanh_chóng hòa_nhập môi_trường nghề buôn mặt_hàng nông_sản mùa nắng_nóng người_dân vùng chó dại cắn chứng_kiến cảnh dân_nghèo tiền điều_trị phát dại kiểm_soát hành_vi gây nguy_hại xung_quanh bà trinh bắt_đầu điều_chế liều thuốc chữa_trị phụ thầy chữa bệnh viên thuốc đặc_trị virus dại do chó cắn điều_chế vê thành viên màu đen hạt nhãn liều thuốc lấy nguyên_liệu đơn_giản gần_gũi gồm nhọ_nồi nọc_độc con cành cành gạo_nếp cơm nhão quan_trọng nọc_độc con cành cành gọi con văn_liệu màu đỏ thường ruộng rau_muống bắt con cành cành cần lấy phần nọc_độc đuôi đem phơi khô tán nhuyễn thành bột gạo_nếp sao vàng tán nhuyễn nhọ_nồi lấy chảo nấu bếp củi lấy nồi ba nguyên_liệu cơm nhão kết_hợp tỉ_lệ dùng tay vê thành viên đũa rồi đem phơi khô dùng viên thuốc điều_chế xong màu xám đen giống hạt nhãn cứu chó dại cắn cầm lọ thuốc tay cụ trinh cho_biết mỗi chế thuốc sẵn lọ dự_phòng loại thuốc mùi vị uống cảm_giác say nôn_nao mệt_mỏi tùy thể_trạng mỗi sử_dụng liều_lượng phù_hợp bình_thường dùng liều 7 viên lúc ai có_thể trạng béo tốt dùng viên thể_trạng yếu dùng viên bữa cơm thuốc tác_dụng cảm_giác khắp cơ_thể vài phút uống mệt_mỏi nôn_nao khó_chịu sử_dụng liều thuốc cần kiêng_kỵ nhạc đám_ma ba tháng ngoài_ra người_bệnh cần ăn_uống điều_độ bồi_bổ sức_khỏe nhanh hồi sức loại thuốc bình_thường uống cảm_giác mệt_mỏi người_bệnh tuy_nhiên thực_sự chó dại cắn thì dùng thuốc bởi nó gây tình_trạng mệt_mỏi cụ trinh chia_sẻ nghe thì phương_thuốc khá đơn_giản nguyên_liệu sẵn bắt_tay hề như_vậy thành_phần nọc_độc côn_trùng đúng tỉ_lệ quy_trình thì phản_tác_dụng nguyễn_thọ_ngát con_trai út cụ trinh kể kỷ_niệm người_bệnh điều_trị nhà nhắc bệnh_nhân chữa_trị bà trinh cho_hay vài đàn_ông xã thôn chó dại cắn xin thuốc lúc thuốc dự_phòng đủ liều chữa_trị mùa khô nguyên_liệu gần_như tôi khuyên người_nhà đưa bệnh_viện tiêm vắc xin kịp tuy_nhiên gia_đình khó_khăn tôi điều_trị cứu xin tôi chữa_trị lúc hoàn_cảnh bệnh_nhân khó_khăn tôi khắp ruộng rau bắt vài con cành cành sao nguyên_liệu thuốc may_mắn cộng thuốc lọ đủ liều điều_trị mất người_bệnh uống thuốc biểu_hiện gì lạ nguyễn_thọ_ngát 42 tuổi con_trai út cụ trinh chia_sẻ thuốc mẹ tôi tác_dụng chó dại cắn nghĩa_là chưa phát dại nào biểu_hiện xùi bọt mép điều_khiển hành_vi bản_thân nữa thì thuốc vô tác_dụng tính ngàn viên thuốc điều_chế chữa trăm vùng mẹ tôi thử thuốc con chó cắn bởi con chó dại kết_quả con chó cứu sống khỏe_mạnh ông nguyễn_văn_kính chủ_tịch ubnd xã nam_dương bà_phạm_thị_trinh sống người_dân vùng phương_thuốc đặc_trị virus dại không_chỉ xã vùng lân_cận xin điều_trị bà trinh thường thuốc miễn_phí chữa khỏi hoàn_toàn họ\n"
          ]
        }
      ]
    },
    {
      "cell_type": "code",
      "metadata": {
        "id": "mVot0nxCMwyX",
        "colab_type": "code",
        "colab": {},
        "outputId": "4b15729a-b4e3-423d-c482-6d826536af4c"
      },
      "source": [
        "# Chia tập train/test\n",
        "from sklearn.model_selection import train_test_split\n",
        "from sklearn.preprocessing import LabelEncoder\n",
        "test_percent = 0.2\n",
        "\n",
        "text = []\n",
        "label = []\n",
        "\n",
        "for line in open('news_categories.prep'):\n",
        "    words = line.strip().split()\n",
        "    label.append(words[0])\n",
        "    text.append(' '.join(words[1:]))\n",
        "\n",
        "X_train, X_test, y_train, y_test = train_test_split(text, label, test_size=test_percent, random_state=42)\n",
        "\n",
        "# Lưu train/test data\n",
        "# Giữ nguyên train/test để về sau so sánh các mô hình cho công bằng\n",
        "with open('train.txt', 'w') as fp:\n",
        "    for x, y in zip(X_train, y_train):\n",
        "        fp.write('{} {}\\n'.format(y, x))\n",
        "\n",
        "with open('test.txt', 'w') as fp:\n",
        "    for x, y in zip(X_test, y_test):\n",
        "        fp.write('{} {}\\n'.format(y, x))\n",
        "\n",
        "# encode label\n",
        "label_encoder = LabelEncoder()\n",
        "label_encoder.fit(y_train)\n",
        "print(list(label_encoder.classes_), '\\n')\n",
        "y_train = label_encoder.transform(y_train)\n",
        "y_test = label_encoder.transform(y_test)\n",
        "\n",
        "print(X_train[0], y_train[0], '\\n')\n",
        "print(X_test[0], y_test[0])"
      ],
      "execution_count": 2,
      "outputs": [
        {
          "output_type": "error",
          "ename": "FileNotFoundError",
          "evalue": "[Errno 2] No such file or directory: 'news_categories.prep'",
          "traceback": [
            "\u001b[0;31m---------------------------------------------------------------------------\u001b[0m",
            "\u001b[0;31mFileNotFoundError\u001b[0m                         Traceback (most recent call last)",
            "\u001b[0;32m<ipython-input-2-a4a0bced1222>\u001b[0m in \u001b[0;36m<module>\u001b[0;34m\u001b[0m\n\u001b[1;32m      7\u001b[0m \u001b[0mlabel\u001b[0m \u001b[0;34m=\u001b[0m \u001b[0;34m[\u001b[0m\u001b[0;34m]\u001b[0m\u001b[0;34m\u001b[0m\u001b[0;34m\u001b[0m\u001b[0m\n\u001b[1;32m      8\u001b[0m \u001b[0;34m\u001b[0m\u001b[0m\n\u001b[0;32m----> 9\u001b[0;31m \u001b[0;32mfor\u001b[0m \u001b[0mline\u001b[0m \u001b[0;32min\u001b[0m \u001b[0mopen\u001b[0m\u001b[0;34m(\u001b[0m\u001b[0;34m'news_categories.prep'\u001b[0m\u001b[0;34m)\u001b[0m\u001b[0;34m:\u001b[0m\u001b[0;34m\u001b[0m\u001b[0;34m\u001b[0m\u001b[0m\n\u001b[0m\u001b[1;32m     10\u001b[0m     \u001b[0mwords\u001b[0m \u001b[0;34m=\u001b[0m \u001b[0mline\u001b[0m\u001b[0;34m.\u001b[0m\u001b[0mstrip\u001b[0m\u001b[0;34m(\u001b[0m\u001b[0;34m)\u001b[0m\u001b[0;34m.\u001b[0m\u001b[0msplit\u001b[0m\u001b[0;34m(\u001b[0m\u001b[0;34m)\u001b[0m\u001b[0;34m\u001b[0m\u001b[0;34m\u001b[0m\u001b[0m\n\u001b[1;32m     11\u001b[0m     \u001b[0mlabel\u001b[0m\u001b[0;34m.\u001b[0m\u001b[0mappend\u001b[0m\u001b[0;34m(\u001b[0m\u001b[0mwords\u001b[0m\u001b[0;34m[\u001b[0m\u001b[0;36m0\u001b[0m\u001b[0;34m]\u001b[0m\u001b[0;34m)\u001b[0m\u001b[0;34m\u001b[0m\u001b[0;34m\u001b[0m\u001b[0m\n",
            "\u001b[0;31mFileNotFoundError\u001b[0m: [Errno 2] No such file or directory: 'news_categories.prep'"
          ]
        }
      ]
    },
    {
      "cell_type": "code",
      "execution_count": 1,
      "metadata": {},
      "outputs": [
        {
          "output_type": "error",
          "ename": "NameError",
          "evalue": "name 'label_encoder' is not defined",
          "traceback": [
            "\u001b[0;31m---------------------------------------------------------------------------\u001b[0m",
            "\u001b[0;31mNameError\u001b[0m                                 Traceback (most recent call last)",
            "\u001b[0;32m<ipython-input-1-3161a7c9c1a8>\u001b[0m in \u001b[0;36m<module>\u001b[0;34m\u001b[0m\n\u001b[0;32m----> 1\u001b[0;31m \u001b[0mlabel_encoder\u001b[0m\u001b[0;34m\u001b[0m\u001b[0;34m\u001b[0m\u001b[0m\n\u001b[0m",
            "\u001b[0;31mNameError\u001b[0m: name 'label_encoder' is not defined"
          ]
        }
      ],
      "source": [
        "label_encoder"
      ]
    },
    {
      "cell_type": "code",
      "metadata": {
        "id": "MrGOKZILMwya",
        "colab_type": "code",
        "colab": {}
      },
      "source": [
        "MODEL_PATH = \"models\"\n",
        "\n",
        "import os\n",
        "if not os.path.exists(MODEL_PATH):\n",
        "    os.makedirs(MODEL_PATH)\n"
      ],
      "execution_count": 9,
      "outputs": []
    },
    {
      "cell_type": "code",
      "execution_count": 12,
      "metadata": {},
      "outputs": [],
      "source": [
        "import pickle\n",
        "import time\n",
        "from sklearn.feature_extraction.text import CountVectorizer\n",
        "from sklearn.feature_extraction.text import TfidfTransformer\n",
        "from sklearn.naive_bayes import MultinomialNB\n",
        "from sklearn.pipeline import Pipeline"
      ]
    },
    {
      "cell_type": "markdown",
      "metadata": {
        "id": "JnRnrWcMMwyd",
        "colab_type": "text"
      },
      "source": [
        "## Naive Bayes\n",
        "https://scikit-learn.org/stable/modules/generated/sklearn.naive_bayes.MultinomialNB.html"
      ]
    },
    {
      "cell_type": "code",
      "metadata": {
        "id": "AkS3lqseMwye",
        "colab_type": "code",
        "colab": {},
        "outputId": "3073eff8-0692-4bda-8f5b-333017981cf6"
      },
      "source": [
        "import pickle\n",
        "import time\n",
        "from sklearn.feature_extraction.text import CountVectorizer\n",
        "from sklearn.feature_extraction.text import TfidfTransformer\n",
        "from sklearn.naive_bayes import MultinomialNB\n",
        "from sklearn.pipeline import Pipeline\n",
        "\n",
        "start_time = time.time()\n",
        "text_clf = Pipeline([('vect', CountVectorizer(ngram_range=(1,1),\n",
        "                                             max_df=0.8,\n",
        "                                             max_features=None)), \n",
        "                     ('tfidf', TfidfTransformer()), \n",
        "                     ('clf', MultinomialNB())\n",
        "                    ])\n",
        "text_clf = text_clf.fit(X_train, y_train)\n",
        "\n",
        "train_time = time.time() - start_time\n",
        "print('Done training Naive Bayes in', train_time, 'seconds.')\n",
        "\n",
        "# Save model\n",
        "pickle.dump(text_clf, open(os.path.join(MODEL_PATH, \"naive_bayes.pkl\"), 'wb'))"
      ],
      "execution_count": null,
      "outputs": [
        {
          "output_type": "stream",
          "text": [
            "Done training Naive Bayes in 15.001639127731323 seconds.\n"
          ],
          "name": "stdout"
        }
      ]
    },
    {
      "cell_type": "markdown",
      "metadata": {
        "id": "Flv2HtO2Mwyi",
        "colab_type": "text"
      },
      "source": [
        "## Linear Classifier\n",
        "http://scikit-learn.org/stable/modules/generated/sklearn.linear_model.LogisticRegression.html"
      ]
    },
    {
      "cell_type": "code",
      "metadata": {
        "id": "6vlilOMzMwyi",
        "colab_type": "code",
        "colab": {},
        "outputId": "29a33424-25ed-441c-cbb2-7a6a5a1eb077"
      },
      "source": [
        "from sklearn.linear_model import LogisticRegression\n",
        "\n",
        "start_time = time.time()\n",
        "text_clf = Pipeline([('vect', CountVectorizer(ngram_range=(1,1),\n",
        "                                             max_df=0.8,\n",
        "                                             max_features=None)), \n",
        "                     ('tfidf', TfidfTransformer()),\n",
        "                     ('clf', LogisticRegression(solver='lbfgs', \n",
        "                                                multi_class='auto',\n",
        "                                                max_iter=10000))\n",
        "                    ])\n",
        "text_clf = text_clf.fit(X_train, y_train)\n",
        "\n",
        "train_time = time.time() - start_time\n",
        "print('Done training Linear Classifier in', train_time, 'seconds.')\n",
        "\n",
        "# Save model\n",
        "pickle.dump(text_clf, open(os.path.join(MODEL_PATH, \"linear_classifier.pkl\"), 'wb'))"
      ],
      "execution_count": 13,
      "outputs": [
        {
          "output_type": "stream",
          "name": "stdout",
          "text": [
            "Done training Linear Classifier in 263.68895626068115 seconds.\n"
          ]
        }
      ]
    },
    {
      "cell_type": "markdown",
      "metadata": {
        "id": "V5DON6YQMwym",
        "colab_type": "text"
      },
      "source": [
        "## Support Vector Machine (SVM)\n",
        "https://scikit-learn.org/stable/modules/generated/sklearn.svm.SVC.html"
      ]
    },
    {
      "cell_type": "code",
      "metadata": {
        "id": "G4z85ws5Mwyn",
        "colab_type": "code",
        "colab": {},
        "outputId": "6cb33836-5f26-43d4-b0fc-536fc0b9fb7f"
      },
      "source": [
        "from sklearn.svm import SVC\n",
        "\n",
        "start_time = time.time()\n",
        "text_clf = Pipeline([('vect', CountVectorizer(ngram_range=(1,1),\n",
        "                                             max_df=0.8,\n",
        "                                             max_features=None)), \n",
        "                     ('tfidf', TfidfTransformer()),\n",
        "                     ('clf', SVC(gamma='scale'))\n",
        "                    ])\n",
        "text_clf = text_clf.fit(X_train, y_train)\n",
        "\n",
        "train_time = time.time() - start_time\n",
        "print('Done training SVM in', train_time, 'seconds.')\n",
        "\n",
        "# Save model\n",
        "pickle.dump(text_clf, open(os.path.join(MODEL_PATH, \"svm.pkl\"), 'wb'))"
      ],
      "execution_count": null,
      "outputs": [
        {
          "output_type": "stream",
          "text": [
            "Done training SVM in 2082.0848298072815 seconds.\n"
          ],
          "name": "stdout"
        }
      ]
    },
    {
      "cell_type": "markdown",
      "metadata": {
        "id": "iDDiZxH4Mwyq",
        "colab_type": "text"
      },
      "source": [
        "## FastText\n",
        "https://github.com/facebookresearch/fasttext"
      ]
    },
    {
      "cell_type": "code",
      "metadata": {
        "id": "wEmOxmxNMwyr",
        "colab_type": "code",
        "colab": {},
        "outputId": "de2173a1-9337-49e0-8220-fdf4314dd5d3"
      },
      "source": [
        "# Cài đặt fastText cho Python\n",
        "!pip3 install --user numpy scipy pybind11 cmake\n",
        "!wget -nc \"https://github.com/facebookresearch/fastText/archive/v0.9.2.zip\" > /dev/null\n",
        "!unzip -n \"v0.9.2.zip\" > /dev/null\n",
        "!cd fastText-0.9.2 && pip3 install --user .\n",
        "!rm -rf v0.9.2.zip fastText-0.9.2"
      ],
      "execution_count": null,
      "outputs": [
        {
          "output_type": "stream",
          "text": [
            "Requirement already satisfied: numpy in /Users/hieunv/Library/Python/3.7/lib/python/site-packages (1.19.1)\n",
            "Requirement already satisfied: scipy in /Users/hieunv/Library/Python/3.7/lib/python/site-packages (1.5.2)\n",
            "Requirement already satisfied: pybind11 in /Users/hieunv/Library/Python/3.7/lib/python/site-packages (2.5.0)\n",
            "Requirement already satisfied: cmake in /Users/hieunv/Library/Python/3.7/lib/python/site-packages (3.18.0)\n",
            "\u001b[33mYou are using pip version 19.0.3, however version 20.2 is available.\n",
            "You should consider upgrading via the 'pip install --upgrade pip' command.\u001b[0m\n",
            "--2020-08-05 23:07:26--  https://github.com/facebookresearch/fastText/archive/v0.9.2.zip\n",
            "Resolving github.com (github.com)... 52.74.223.119\n",
            "Connecting to github.com (github.com)|52.74.223.119|:443... connected.\n",
            "HTTP request sent, awaiting response... 302 Found\n",
            "Location: https://codeload.github.com/facebookresearch/fastText/zip/v0.9.2 [following]\n",
            "--2020-08-05 23:07:27--  https://codeload.github.com/facebookresearch/fastText/zip/v0.9.2\n",
            "Resolving codeload.github.com (codeload.github.com)... 54.251.140.56\n",
            "Connecting to codeload.github.com (codeload.github.com)|54.251.140.56|:443... connected.\n",
            "HTTP request sent, awaiting response... 200 OK\n",
            "Length: unspecified [application/zip]\n",
            "Saving to: ‘v0.9.2.zip’\n",
            "\n",
            "v0.9.2.zip              [           <=>      ]   4.17M  1.97MB/s    in 2.1s    \n",
            "\n",
            "2020-08-05 23:07:30 (1.97 MB/s) - ‘v0.9.2.zip’ saved [4369852]\n",
            "\n",
            "Processing /Volumes/resource/code/text-classification-tutorial/fastText-0.9.2\n",
            "Requirement already satisfied: pybind11>=2.2 in /Users/hieunv/Library/Python/3.7/lib/python/site-packages (from fasttext==0.9.2) (2.5.0)\n",
            "Requirement already satisfied: setuptools>=0.7.0 in /Library/Developer/CommandLineTools/Library/Frameworks/Python3.framework/Versions/3.7/lib/python3.7/site-packages (from fasttext==0.9.2) (40.8.0)\n",
            "Requirement already satisfied: numpy in /Users/hieunv/Library/Python/3.7/lib/python/site-packages (from fasttext==0.9.2) (1.19.1)\n",
            "Building wheels for collected packages: fasttext\n",
            "  Building wheel for fasttext (setup.py) ... \u001b[?25ldone\n",
            "\u001b[?25h  Stored in directory: /Users/hieunv/Library/Caches/pip/wheels/db/5f/9f/8098159d3ea8b1ece5da5341fe5c03d6de6625a3681142cf61\n",
            "Successfully built fasttext\n",
            "Installing collected packages: fasttext\n",
            "  Found existing installation: fasttext 0.9.2\n",
            "    Uninstalling fasttext-0.9.2:\n",
            "      Successfully uninstalled fasttext-0.9.2\n",
            "Successfully installed fasttext-0.9.2\n",
            "\u001b[33mYou are using pip version 19.0.3, however version 20.2 is available.\n",
            "You should consider upgrading via the 'pip install --upgrade pip' command.\u001b[0m\n"
          ],
          "name": "stdout"
        }
      ]
    },
    {
      "cell_type": "code",
      "metadata": {
        "id": "e_rhbogmMwyu",
        "colab_type": "code",
        "colab": {},
        "outputId": "13667d71-91fd-4392-eefc-99ceb59b7eb5"
      },
      "source": [
        "import fasttext\n",
        "\n",
        "start_time = time.time()\n",
        "model = fasttext.train_supervised(\n",
        "                                input='train.txt',\n",
        "                                dim=100,\n",
        "                                epoch=5,\n",
        "                                lr=0.1,\n",
        "                                wordNgrams=2,\n",
        "                                label='__label__',\n",
        "                                minCount=5\n",
        ")\n",
        "\n",
        "train_time = time.time() - start_time\n",
        "print('Done training Fasttext in', train_time, 'seconds.')\n",
        "\n",
        "# Compress model files with quantization\n",
        "model.quantize(input='train.txt', retrain=True)\n",
        "model.save_model(os.path.join(MODEL_PATH,\"fasttext.ftz\"))"
      ],
      "execution_count": null,
      "outputs": [
        {
          "output_type": "stream",
          "text": [
            "Done training Fasttext in 19.906031131744385 seconds.\n"
          ],
          "name": "stdout"
        }
      ]
    },
    {
      "cell_type": "markdown",
      "metadata": {
        "id": "UuSOImTRMwyy",
        "colab_type": "text"
      },
      "source": [
        "## Đánh giá các mô hình"
      ]
    },
    {
      "cell_type": "code",
      "metadata": {
        "id": "0K04GPknMwyy",
        "colab_type": "code",
        "colab": {},
        "outputId": "8d51e838-bafe-4a1e-a34c-38b36a0d2458"
      },
      "source": [
        "import numpy as np\n",
        "# Naive Bayes\n",
        "model = pickle.load(open(os.path.join(MODEL_PATH,\"naive_bayes.pkl\"), 'rb'))\n",
        "y_pred = model.predict(X_test)\n",
        "print('Naive Bayes, Accuracy =', np.mean(y_pred == y_test))\n",
        "\n",
        "# Linear Classifier\n",
        "model = pickle.load(open(os.path.join(MODEL_PATH,\"linear_classifier.pkl\"), 'rb'))\n",
        "y_pred = model.predict(X_test)\n",
        "print('Linear Classifier, Accuracy =', np.mean(y_pred == y_test))\n",
        "\n",
        "# SVM\n",
        "model = pickle.load(open(os.path.join(MODEL_PATH,\"svm.pkl\"), 'rb'))\n",
        "y_pred = model.predict(X_test)\n",
        "print('SVM, Accuracy =', np.mean(y_pred == y_test))\n",
        "\n",
        "# Fasttext\n",
        "def print_results(N, p, r):\n",
        "    print(\"Fasttext, Precision = {}, Recall = {}\".format(p, r))\n",
        "    \n",
        "model = fasttext.load_model(os.path.join(MODEL_PATH,\"fasttext.ftz\"))\n",
        "print_results(*model.test('test.txt'))"
      ],
      "execution_count": null,
      "outputs": [
        {
          "output_type": "stream",
          "text": [
            "Naive Bayes, Accuracy = 0.8324764353041988\n",
            "Linear Classifier, Accuracy = 0.883140531276778\n",
            "SVM, Accuracy = 0.8822836332476436\n"
          ],
          "name": "stdout"
        },
        {
          "output_type": "stream",
          "text": [
            "Warning : `load_model` does not return WordVectorModel or SupervisedModel any more, but a `FastText` object which is very similar.\n"
          ],
          "name": "stderr"
        },
        {
          "output_type": "stream",
          "text": [
            "Fasttext, Precision = 0.7548200514138818, Recall = 0.7548200514138818\n"
          ],
          "name": "stdout"
        }
      ]
    },
    {
      "cell_type": "code",
      "metadata": {
        "id": "o3KXn7zEMwy1",
        "colab_type": "code",
        "colab": {},
        "outputId": "ffe4898d-a0dd-4b26-e944-67529128398f"
      },
      "source": [
        "# Xem kết quả trên từng nhãn\n",
        "from sklearn.metrics import classification_report\n",
        "\n",
        "nb_model = pickle.load(open(os.path.join(MODEL_PATH,\"linear_classifier.pkl\"), 'rb'))\n",
        "y_pred = nb_model.predict(X_test)\n",
        "print(classification_report(y_test, y_pred, target_names=list(label_encoder.classes_)))"
      ],
      "execution_count": 14,
      "outputs": [
        {
          "output_type": "stream",
          "name": "stdout",
          "text": [
            "                     precision    recall  f1-score   support\n\n __label__công_nghệ       0.94      0.94      0.94       532\n   __label__du_lịch       0.88      0.90      0.89       551\n  __label__giáo_dục       0.86      0.88      0.87       528\n  __label__giải_trí       0.76      0.77      0.76       487\n__label__kinh_doanh       0.86      0.86      0.86       498\n __label__nhịp_sống       0.81      0.79      0.80       497\n  __label__phim_ảnh       0.87      0.87      0.87       525\n __label__pháp_luật       0.94      0.92      0.93       543\n  __label__sống_trẻ       0.77      0.72      0.74       510\n  __label__sức_khỏe       0.86      0.90      0.88       496\n  __label__thế_giới       0.90      0.91      0.90       549\n  __label__thể_thao       0.96      0.97      0.96       508\n   __label__thời_sự       0.85      0.85      0.85       496\n__label__thời_trang       0.88      0.88      0.88       521\n    __label__xe_360       0.95      0.97      0.96       502\n  __label__xuất_bản       0.96      0.92      0.94       519\n   __label__âm_nhạc       0.89      0.89      0.89       554\n   __label__ẩm_thực       0.93      0.95      0.94       520\n\n           accuracy                           0.88      9336\n          macro avg       0.88      0.88      0.88      9336\n       weighted avg       0.88      0.88      0.88      9336\n\n"
          ]
        }
      ]
    },
    {
      "cell_type": "code",
      "metadata": {
        "id": "78sdWuRjMwy5",
        "colab_type": "code",
        "colab": {},
        "outputId": "d5d878b3-dd9b-4cfe-ec88-efb51a3bddb7"
      },
      "source": [
        "# xem kết quả cho 1 văn bản model naive bayes đã load ở trên\n",
        "\n",
        "document = \"đá bóng không mày?\"\n",
        "\n",
        "document = text_preprocess(document)\n",
        "document = remove_stopwords(document)\n",
        "\n",
        "label = nb_model.predict([document])\n",
        "print('Predict label:', label_encoder.inverse_transform(label))"
      ],
      "execution_count": 1,
      "outputs": [
        {
          "output_type": "error",
          "ename": "NameError",
          "evalue": "name 'text_preprocess' is not defined",
          "traceback": [
            "\u001b[0;31m---------------------------------------------------------------------------\u001b[0m",
            "\u001b[0;31mNameError\u001b[0m                                 Traceback (most recent call last)",
            "\u001b[0;32m<ipython-input-1-1f906b4d33c2>\u001b[0m in \u001b[0;36m<module>\u001b[0;34m\u001b[0m\n\u001b[1;32m      3\u001b[0m \u001b[0mdocument\u001b[0m \u001b[0;34m=\u001b[0m \u001b[0;34m\"đá bóng không mày?\"\u001b[0m\u001b[0;34m\u001b[0m\u001b[0;34m\u001b[0m\u001b[0m\n\u001b[1;32m      4\u001b[0m \u001b[0;34m\u001b[0m\u001b[0m\n\u001b[0;32m----> 5\u001b[0;31m \u001b[0mdocument\u001b[0m \u001b[0;34m=\u001b[0m \u001b[0mtext_preprocess\u001b[0m\u001b[0;34m(\u001b[0m\u001b[0mdocument\u001b[0m\u001b[0;34m)\u001b[0m\u001b[0;34m\u001b[0m\u001b[0;34m\u001b[0m\u001b[0m\n\u001b[0m\u001b[1;32m      6\u001b[0m \u001b[0mdocument\u001b[0m \u001b[0;34m=\u001b[0m \u001b[0mremove_stopwords\u001b[0m\u001b[0;34m(\u001b[0m\u001b[0mdocument\u001b[0m\u001b[0;34m)\u001b[0m\u001b[0;34m\u001b[0m\u001b[0;34m\u001b[0m\u001b[0m\n\u001b[1;32m      7\u001b[0m \u001b[0;34m\u001b[0m\u001b[0m\n",
            "\u001b[0;31mNameError\u001b[0m: name 'text_preprocess' is not defined"
          ]
        }
      ]
    },
    {
      "cell_type": "code",
      "metadata": {
        "id": "k-HqFwB_Mwy9",
        "colab_type": "code",
        "colab": {}
      },
      "source": [],
      "execution_count": null,
      "outputs": []
    },
    {
      "cell_type": "code",
      "metadata": {
        "id": "P4Qlbq7xMwzA",
        "colab_type": "code",
        "colab": {}
      },
      "source": [],
      "execution_count": null,
      "outputs": []
    },
    {
      "cell_type": "code",
      "metadata": {
        "id": "xESSg-OfMwzD",
        "colab_type": "code",
        "colab": {}
      },
      "source": [],
      "execution_count": null,
      "outputs": []
    }
  ]
}